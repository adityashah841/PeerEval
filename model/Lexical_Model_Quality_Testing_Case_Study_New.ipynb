{
  "nbformat": 4,
  "nbformat_minor": 0,
  "metadata": {
    "colab": {
      "provenance": [],
      "gpuType": "T4"
    },
    "kernelspec": {
      "name": "python3",
      "display_name": "Python 3"
    },
    "language_info": {
      "name": "python"
    },
    "accelerator": "GPU",
    "widgets": {
      "application/vnd.jupyter.widget-state+json": {
        "a601598788fa4ee3a1ba439adcc07389": {
          "model_module": "@jupyter-widgets/controls",
          "model_name": "HBoxModel",
          "model_module_version": "1.5.0",
          "state": {
            "_dom_classes": [],
            "_model_module": "@jupyter-widgets/controls",
            "_model_module_version": "1.5.0",
            "_model_name": "HBoxModel",
            "_view_count": null,
            "_view_module": "@jupyter-widgets/controls",
            "_view_module_version": "1.5.0",
            "_view_name": "HBoxView",
            "box_style": "",
            "children": [
              "IPY_MODEL_3a2600ca45af4fb8b854306c54cdd876",
              "IPY_MODEL_b77a2011dd5d47c783bbcbe0abc643a3",
              "IPY_MODEL_806daf52f3f2443d9c288a04a095fbc5"
            ],
            "layout": "IPY_MODEL_158192bbe5194e54b0c8d14dd3890bee"
          }
        },
        "3a2600ca45af4fb8b854306c54cdd876": {
          "model_module": "@jupyter-widgets/controls",
          "model_name": "HTMLModel",
          "model_module_version": "1.5.0",
          "state": {
            "_dom_classes": [],
            "_model_module": "@jupyter-widgets/controls",
            "_model_module_version": "1.5.0",
            "_model_name": "HTMLModel",
            "_view_count": null,
            "_view_module": "@jupyter-widgets/controls",
            "_view_module_version": "1.5.0",
            "_view_name": "HTMLView",
            "description": "",
            "description_tooltip": null,
            "layout": "IPY_MODEL_ee0ddef4fd524798b7ac5dfbfe18be30",
            "placeholder": "​",
            "style": "IPY_MODEL_cf1c33968e2a4dc092d648f0ceb12878",
            "value": "config.json: 100%"
          }
        },
        "b77a2011dd5d47c783bbcbe0abc643a3": {
          "model_module": "@jupyter-widgets/controls",
          "model_name": "FloatProgressModel",
          "model_module_version": "1.5.0",
          "state": {
            "_dom_classes": [],
            "_model_module": "@jupyter-widgets/controls",
            "_model_module_version": "1.5.0",
            "_model_name": "FloatProgressModel",
            "_view_count": null,
            "_view_module": "@jupyter-widgets/controls",
            "_view_module_version": "1.5.0",
            "_view_name": "ProgressView",
            "bar_style": "success",
            "description": "",
            "description_tooltip": null,
            "layout": "IPY_MODEL_601d2b1dfe57425c8dcccf4762ec932e",
            "max": 385,
            "min": 0,
            "orientation": "horizontal",
            "style": "IPY_MODEL_35a9a0ce8eaa470e81437b60d4afaf93",
            "value": 385
          }
        },
        "806daf52f3f2443d9c288a04a095fbc5": {
          "model_module": "@jupyter-widgets/controls",
          "model_name": "HTMLModel",
          "model_module_version": "1.5.0",
          "state": {
            "_dom_classes": [],
            "_model_module": "@jupyter-widgets/controls",
            "_model_module_version": "1.5.0",
            "_model_name": "HTMLModel",
            "_view_count": null,
            "_view_module": "@jupyter-widgets/controls",
            "_view_module_version": "1.5.0",
            "_view_name": "HTMLView",
            "description": "",
            "description_tooltip": null,
            "layout": "IPY_MODEL_07353728d96c44638e51bd31cbbcf0b1",
            "placeholder": "​",
            "style": "IPY_MODEL_346813f8c2ec440493dd6e82c207e9cd",
            "value": " 385/385 [00:00&lt;00:00, 6.49kB/s]"
          }
        },
        "158192bbe5194e54b0c8d14dd3890bee": {
          "model_module": "@jupyter-widgets/base",
          "model_name": "LayoutModel",
          "model_module_version": "1.2.0",
          "state": {
            "_model_module": "@jupyter-widgets/base",
            "_model_module_version": "1.2.0",
            "_model_name": "LayoutModel",
            "_view_count": null,
            "_view_module": "@jupyter-widgets/base",
            "_view_module_version": "1.2.0",
            "_view_name": "LayoutView",
            "align_content": null,
            "align_items": null,
            "align_self": null,
            "border": null,
            "bottom": null,
            "display": null,
            "flex": null,
            "flex_flow": null,
            "grid_area": null,
            "grid_auto_columns": null,
            "grid_auto_flow": null,
            "grid_auto_rows": null,
            "grid_column": null,
            "grid_gap": null,
            "grid_row": null,
            "grid_template_areas": null,
            "grid_template_columns": null,
            "grid_template_rows": null,
            "height": null,
            "justify_content": null,
            "justify_items": null,
            "left": null,
            "margin": null,
            "max_height": null,
            "max_width": null,
            "min_height": null,
            "min_width": null,
            "object_fit": null,
            "object_position": null,
            "order": null,
            "overflow": null,
            "overflow_x": null,
            "overflow_y": null,
            "padding": null,
            "right": null,
            "top": null,
            "visibility": null,
            "width": null
          }
        },
        "ee0ddef4fd524798b7ac5dfbfe18be30": {
          "model_module": "@jupyter-widgets/base",
          "model_name": "LayoutModel",
          "model_module_version": "1.2.0",
          "state": {
            "_model_module": "@jupyter-widgets/base",
            "_model_module_version": "1.2.0",
            "_model_name": "LayoutModel",
            "_view_count": null,
            "_view_module": "@jupyter-widgets/base",
            "_view_module_version": "1.2.0",
            "_view_name": "LayoutView",
            "align_content": null,
            "align_items": null,
            "align_self": null,
            "border": null,
            "bottom": null,
            "display": null,
            "flex": null,
            "flex_flow": null,
            "grid_area": null,
            "grid_auto_columns": null,
            "grid_auto_flow": null,
            "grid_auto_rows": null,
            "grid_column": null,
            "grid_gap": null,
            "grid_row": null,
            "grid_template_areas": null,
            "grid_template_columns": null,
            "grid_template_rows": null,
            "height": null,
            "justify_content": null,
            "justify_items": null,
            "left": null,
            "margin": null,
            "max_height": null,
            "max_width": null,
            "min_height": null,
            "min_width": null,
            "object_fit": null,
            "object_position": null,
            "order": null,
            "overflow": null,
            "overflow_x": null,
            "overflow_y": null,
            "padding": null,
            "right": null,
            "top": null,
            "visibility": null,
            "width": null
          }
        },
        "cf1c33968e2a4dc092d648f0ceb12878": {
          "model_module": "@jupyter-widgets/controls",
          "model_name": "DescriptionStyleModel",
          "model_module_version": "1.5.0",
          "state": {
            "_model_module": "@jupyter-widgets/controls",
            "_model_module_version": "1.5.0",
            "_model_name": "DescriptionStyleModel",
            "_view_count": null,
            "_view_module": "@jupyter-widgets/base",
            "_view_module_version": "1.2.0",
            "_view_name": "StyleView",
            "description_width": ""
          }
        },
        "601d2b1dfe57425c8dcccf4762ec932e": {
          "model_module": "@jupyter-widgets/base",
          "model_name": "LayoutModel",
          "model_module_version": "1.2.0",
          "state": {
            "_model_module": "@jupyter-widgets/base",
            "_model_module_version": "1.2.0",
            "_model_name": "LayoutModel",
            "_view_count": null,
            "_view_module": "@jupyter-widgets/base",
            "_view_module_version": "1.2.0",
            "_view_name": "LayoutView",
            "align_content": null,
            "align_items": null,
            "align_self": null,
            "border": null,
            "bottom": null,
            "display": null,
            "flex": null,
            "flex_flow": null,
            "grid_area": null,
            "grid_auto_columns": null,
            "grid_auto_flow": null,
            "grid_auto_rows": null,
            "grid_column": null,
            "grid_gap": null,
            "grid_row": null,
            "grid_template_areas": null,
            "grid_template_columns": null,
            "grid_template_rows": null,
            "height": null,
            "justify_content": null,
            "justify_items": null,
            "left": null,
            "margin": null,
            "max_height": null,
            "max_width": null,
            "min_height": null,
            "min_width": null,
            "object_fit": null,
            "object_position": null,
            "order": null,
            "overflow": null,
            "overflow_x": null,
            "overflow_y": null,
            "padding": null,
            "right": null,
            "top": null,
            "visibility": null,
            "width": null
          }
        },
        "35a9a0ce8eaa470e81437b60d4afaf93": {
          "model_module": "@jupyter-widgets/controls",
          "model_name": "ProgressStyleModel",
          "model_module_version": "1.5.0",
          "state": {
            "_model_module": "@jupyter-widgets/controls",
            "_model_module_version": "1.5.0",
            "_model_name": "ProgressStyleModel",
            "_view_count": null,
            "_view_module": "@jupyter-widgets/base",
            "_view_module_version": "1.2.0",
            "_view_name": "StyleView",
            "bar_color": null,
            "description_width": ""
          }
        },
        "07353728d96c44638e51bd31cbbcf0b1": {
          "model_module": "@jupyter-widgets/base",
          "model_name": "LayoutModel",
          "model_module_version": "1.2.0",
          "state": {
            "_model_module": "@jupyter-widgets/base",
            "_model_module_version": "1.2.0",
            "_model_name": "LayoutModel",
            "_view_count": null,
            "_view_module": "@jupyter-widgets/base",
            "_view_module_version": "1.2.0",
            "_view_name": "LayoutView",
            "align_content": null,
            "align_items": null,
            "align_self": null,
            "border": null,
            "bottom": null,
            "display": null,
            "flex": null,
            "flex_flow": null,
            "grid_area": null,
            "grid_auto_columns": null,
            "grid_auto_flow": null,
            "grid_auto_rows": null,
            "grid_column": null,
            "grid_gap": null,
            "grid_row": null,
            "grid_template_areas": null,
            "grid_template_columns": null,
            "grid_template_rows": null,
            "height": null,
            "justify_content": null,
            "justify_items": null,
            "left": null,
            "margin": null,
            "max_height": null,
            "max_width": null,
            "min_height": null,
            "min_width": null,
            "object_fit": null,
            "object_position": null,
            "order": null,
            "overflow": null,
            "overflow_x": null,
            "overflow_y": null,
            "padding": null,
            "right": null,
            "top": null,
            "visibility": null,
            "width": null
          }
        },
        "346813f8c2ec440493dd6e82c207e9cd": {
          "model_module": "@jupyter-widgets/controls",
          "model_name": "DescriptionStyleModel",
          "model_module_version": "1.5.0",
          "state": {
            "_model_module": "@jupyter-widgets/controls",
            "_model_module_version": "1.5.0",
            "_model_name": "DescriptionStyleModel",
            "_view_count": null,
            "_view_module": "@jupyter-widgets/base",
            "_view_module_version": "1.2.0",
            "_view_name": "StyleView",
            "description_width": ""
          }
        },
        "7da89eb6c89d4a3ab892230183e510e7": {
          "model_module": "@jupyter-widgets/controls",
          "model_name": "HBoxModel",
          "model_module_version": "1.5.0",
          "state": {
            "_dom_classes": [],
            "_model_module": "@jupyter-widgets/controls",
            "_model_module_version": "1.5.0",
            "_model_name": "HBoxModel",
            "_view_count": null,
            "_view_module": "@jupyter-widgets/controls",
            "_view_module_version": "1.5.0",
            "_view_name": "HBoxView",
            "box_style": "",
            "children": [
              "IPY_MODEL_80a3caf9c8144b9eb226184f3791e9eb",
              "IPY_MODEL_b738d554b50b4152b3763554e3300e82",
              "IPY_MODEL_64284fba43584c4ba8656310300a6752"
            ],
            "layout": "IPY_MODEL_a0e5fa1b0d434c3ea6248745cb9291bd"
          }
        },
        "80a3caf9c8144b9eb226184f3791e9eb": {
          "model_module": "@jupyter-widgets/controls",
          "model_name": "HTMLModel",
          "model_module_version": "1.5.0",
          "state": {
            "_dom_classes": [],
            "_model_module": "@jupyter-widgets/controls",
            "_model_module_version": "1.5.0",
            "_model_name": "HTMLModel",
            "_view_count": null,
            "_view_module": "@jupyter-widgets/controls",
            "_view_module_version": "1.5.0",
            "_view_name": "HTMLView",
            "description": "",
            "description_tooltip": null,
            "layout": "IPY_MODEL_20e4a2e8450d4574a9a46dff29bcccf3",
            "placeholder": "​",
            "style": "IPY_MODEL_b6369ad6fd134dd3a31e894aeea02f8e",
            "value": "vocab.txt: 100%"
          }
        },
        "b738d554b50b4152b3763554e3300e82": {
          "model_module": "@jupyter-widgets/controls",
          "model_name": "FloatProgressModel",
          "model_module_version": "1.5.0",
          "state": {
            "_dom_classes": [],
            "_model_module": "@jupyter-widgets/controls",
            "_model_module_version": "1.5.0",
            "_model_name": "FloatProgressModel",
            "_view_count": null,
            "_view_module": "@jupyter-widgets/controls",
            "_view_module_version": "1.5.0",
            "_view_name": "ProgressView",
            "bar_style": "success",
            "description": "",
            "description_tooltip": null,
            "layout": "IPY_MODEL_6034db40bdf248ff957bdfffdab6d132",
            "max": 227845,
            "min": 0,
            "orientation": "horizontal",
            "style": "IPY_MODEL_2688de380e3c42888e3d5f9ae8fcf3f0",
            "value": 227845
          }
        },
        "64284fba43584c4ba8656310300a6752": {
          "model_module": "@jupyter-widgets/controls",
          "model_name": "HTMLModel",
          "model_module_version": "1.5.0",
          "state": {
            "_dom_classes": [],
            "_model_module": "@jupyter-widgets/controls",
            "_model_module_version": "1.5.0",
            "_model_name": "HTMLModel",
            "_view_count": null,
            "_view_module": "@jupyter-widgets/controls",
            "_view_module_version": "1.5.0",
            "_view_name": "HTMLView",
            "description": "",
            "description_tooltip": null,
            "layout": "IPY_MODEL_1f1d312577434f24b248adb39ea5aeb2",
            "placeholder": "​",
            "style": "IPY_MODEL_d55abe2902634614adc465dde1f79bc4",
            "value": " 228k/228k [00:00&lt;00:00, 2.74MB/s]"
          }
        },
        "a0e5fa1b0d434c3ea6248745cb9291bd": {
          "model_module": "@jupyter-widgets/base",
          "model_name": "LayoutModel",
          "model_module_version": "1.2.0",
          "state": {
            "_model_module": "@jupyter-widgets/base",
            "_model_module_version": "1.2.0",
            "_model_name": "LayoutModel",
            "_view_count": null,
            "_view_module": "@jupyter-widgets/base",
            "_view_module_version": "1.2.0",
            "_view_name": "LayoutView",
            "align_content": null,
            "align_items": null,
            "align_self": null,
            "border": null,
            "bottom": null,
            "display": null,
            "flex": null,
            "flex_flow": null,
            "grid_area": null,
            "grid_auto_columns": null,
            "grid_auto_flow": null,
            "grid_auto_rows": null,
            "grid_column": null,
            "grid_gap": null,
            "grid_row": null,
            "grid_template_areas": null,
            "grid_template_columns": null,
            "grid_template_rows": null,
            "height": null,
            "justify_content": null,
            "justify_items": null,
            "left": null,
            "margin": null,
            "max_height": null,
            "max_width": null,
            "min_height": null,
            "min_width": null,
            "object_fit": null,
            "object_position": null,
            "order": null,
            "overflow": null,
            "overflow_x": null,
            "overflow_y": null,
            "padding": null,
            "right": null,
            "top": null,
            "visibility": null,
            "width": null
          }
        },
        "20e4a2e8450d4574a9a46dff29bcccf3": {
          "model_module": "@jupyter-widgets/base",
          "model_name": "LayoutModel",
          "model_module_version": "1.2.0",
          "state": {
            "_model_module": "@jupyter-widgets/base",
            "_model_module_version": "1.2.0",
            "_model_name": "LayoutModel",
            "_view_count": null,
            "_view_module": "@jupyter-widgets/base",
            "_view_module_version": "1.2.0",
            "_view_name": "LayoutView",
            "align_content": null,
            "align_items": null,
            "align_self": null,
            "border": null,
            "bottom": null,
            "display": null,
            "flex": null,
            "flex_flow": null,
            "grid_area": null,
            "grid_auto_columns": null,
            "grid_auto_flow": null,
            "grid_auto_rows": null,
            "grid_column": null,
            "grid_gap": null,
            "grid_row": null,
            "grid_template_areas": null,
            "grid_template_columns": null,
            "grid_template_rows": null,
            "height": null,
            "justify_content": null,
            "justify_items": null,
            "left": null,
            "margin": null,
            "max_height": null,
            "max_width": null,
            "min_height": null,
            "min_width": null,
            "object_fit": null,
            "object_position": null,
            "order": null,
            "overflow": null,
            "overflow_x": null,
            "overflow_y": null,
            "padding": null,
            "right": null,
            "top": null,
            "visibility": null,
            "width": null
          }
        },
        "b6369ad6fd134dd3a31e894aeea02f8e": {
          "model_module": "@jupyter-widgets/controls",
          "model_name": "DescriptionStyleModel",
          "model_module_version": "1.5.0",
          "state": {
            "_model_module": "@jupyter-widgets/controls",
            "_model_module_version": "1.5.0",
            "_model_name": "DescriptionStyleModel",
            "_view_count": null,
            "_view_module": "@jupyter-widgets/base",
            "_view_module_version": "1.2.0",
            "_view_name": "StyleView",
            "description_width": ""
          }
        },
        "6034db40bdf248ff957bdfffdab6d132": {
          "model_module": "@jupyter-widgets/base",
          "model_name": "LayoutModel",
          "model_module_version": "1.2.0",
          "state": {
            "_model_module": "@jupyter-widgets/base",
            "_model_module_version": "1.2.0",
            "_model_name": "LayoutModel",
            "_view_count": null,
            "_view_module": "@jupyter-widgets/base",
            "_view_module_version": "1.2.0",
            "_view_name": "LayoutView",
            "align_content": null,
            "align_items": null,
            "align_self": null,
            "border": null,
            "bottom": null,
            "display": null,
            "flex": null,
            "flex_flow": null,
            "grid_area": null,
            "grid_auto_columns": null,
            "grid_auto_flow": null,
            "grid_auto_rows": null,
            "grid_column": null,
            "grid_gap": null,
            "grid_row": null,
            "grid_template_areas": null,
            "grid_template_columns": null,
            "grid_template_rows": null,
            "height": null,
            "justify_content": null,
            "justify_items": null,
            "left": null,
            "margin": null,
            "max_height": null,
            "max_width": null,
            "min_height": null,
            "min_width": null,
            "object_fit": null,
            "object_position": null,
            "order": null,
            "overflow": null,
            "overflow_x": null,
            "overflow_y": null,
            "padding": null,
            "right": null,
            "top": null,
            "visibility": null,
            "width": null
          }
        },
        "2688de380e3c42888e3d5f9ae8fcf3f0": {
          "model_module": "@jupyter-widgets/controls",
          "model_name": "ProgressStyleModel",
          "model_module_version": "1.5.0",
          "state": {
            "_model_module": "@jupyter-widgets/controls",
            "_model_module_version": "1.5.0",
            "_model_name": "ProgressStyleModel",
            "_view_count": null,
            "_view_module": "@jupyter-widgets/base",
            "_view_module_version": "1.2.0",
            "_view_name": "StyleView",
            "bar_color": null,
            "description_width": ""
          }
        },
        "1f1d312577434f24b248adb39ea5aeb2": {
          "model_module": "@jupyter-widgets/base",
          "model_name": "LayoutModel",
          "model_module_version": "1.2.0",
          "state": {
            "_model_module": "@jupyter-widgets/base",
            "_model_module_version": "1.2.0",
            "_model_name": "LayoutModel",
            "_view_count": null,
            "_view_module": "@jupyter-widgets/base",
            "_view_module_version": "1.2.0",
            "_view_name": "LayoutView",
            "align_content": null,
            "align_items": null,
            "align_self": null,
            "border": null,
            "bottom": null,
            "display": null,
            "flex": null,
            "flex_flow": null,
            "grid_area": null,
            "grid_auto_columns": null,
            "grid_auto_flow": null,
            "grid_auto_rows": null,
            "grid_column": null,
            "grid_gap": null,
            "grid_row": null,
            "grid_template_areas": null,
            "grid_template_columns": null,
            "grid_template_rows": null,
            "height": null,
            "justify_content": null,
            "justify_items": null,
            "left": null,
            "margin": null,
            "max_height": null,
            "max_width": null,
            "min_height": null,
            "min_width": null,
            "object_fit": null,
            "object_position": null,
            "order": null,
            "overflow": null,
            "overflow_x": null,
            "overflow_y": null,
            "padding": null,
            "right": null,
            "top": null,
            "visibility": null,
            "width": null
          }
        },
        "d55abe2902634614adc465dde1f79bc4": {
          "model_module": "@jupyter-widgets/controls",
          "model_name": "DescriptionStyleModel",
          "model_module_version": "1.5.0",
          "state": {
            "_model_module": "@jupyter-widgets/controls",
            "_model_module_version": "1.5.0",
            "_model_name": "DescriptionStyleModel",
            "_view_count": null,
            "_view_module": "@jupyter-widgets/base",
            "_view_module_version": "1.2.0",
            "_view_name": "StyleView",
            "description_width": ""
          }
        },
        "26e73a87ab1d45568ce03b45421fb4fd": {
          "model_module": "@jupyter-widgets/controls",
          "model_name": "HBoxModel",
          "model_module_version": "1.5.0",
          "state": {
            "_dom_classes": [],
            "_model_module": "@jupyter-widgets/controls",
            "_model_module_version": "1.5.0",
            "_model_name": "HBoxModel",
            "_view_count": null,
            "_view_module": "@jupyter-widgets/controls",
            "_view_module_version": "1.5.0",
            "_view_name": "HBoxView",
            "box_style": "",
            "children": [
              "IPY_MODEL_f33f9668bab54fba96a0b70fd797ed72",
              "IPY_MODEL_f55b7b3e6f924d5bb3c7e30fa00fe8b2",
              "IPY_MODEL_fb7952cb6f4a4271908934c2771da399"
            ],
            "layout": "IPY_MODEL_6a179b7e6a2a41bf83040201a60c7add"
          }
        },
        "f33f9668bab54fba96a0b70fd797ed72": {
          "model_module": "@jupyter-widgets/controls",
          "model_name": "HTMLModel",
          "model_module_version": "1.5.0",
          "state": {
            "_dom_classes": [],
            "_model_module": "@jupyter-widgets/controls",
            "_model_module_version": "1.5.0",
            "_model_name": "HTMLModel",
            "_view_count": null,
            "_view_module": "@jupyter-widgets/controls",
            "_view_module_version": "1.5.0",
            "_view_name": "HTMLView",
            "description": "",
            "description_tooltip": null,
            "layout": "IPY_MODEL_93c813cc25f44007b872e73ff7a5fdc4",
            "placeholder": "​",
            "style": "IPY_MODEL_dc412b8555554a9e8de6f97da1756dfa",
            "value": "pytorch_model.bin: 100%"
          }
        },
        "f55b7b3e6f924d5bb3c7e30fa00fe8b2": {
          "model_module": "@jupyter-widgets/controls",
          "model_name": "FloatProgressModel",
          "model_module_version": "1.5.0",
          "state": {
            "_dom_classes": [],
            "_model_module": "@jupyter-widgets/controls",
            "_model_module_version": "1.5.0",
            "_model_name": "FloatProgressModel",
            "_view_count": null,
            "_view_module": "@jupyter-widgets/controls",
            "_view_module_version": "1.5.0",
            "_view_name": "ProgressView",
            "bar_style": "success",
            "description": "",
            "description_tooltip": null,
            "layout": "IPY_MODEL_917aae02f23d4901bb2a9071609eef20",
            "max": 442221694,
            "min": 0,
            "orientation": "horizontal",
            "style": "IPY_MODEL_b404c5a9420c4ea1a14b4980ffb24deb",
            "value": 442221694
          }
        },
        "fb7952cb6f4a4271908934c2771da399": {
          "model_module": "@jupyter-widgets/controls",
          "model_name": "HTMLModel",
          "model_module_version": "1.5.0",
          "state": {
            "_dom_classes": [],
            "_model_module": "@jupyter-widgets/controls",
            "_model_module_version": "1.5.0",
            "_model_name": "HTMLModel",
            "_view_count": null,
            "_view_module": "@jupyter-widgets/controls",
            "_view_module_version": "1.5.0",
            "_view_name": "HTMLView",
            "description": "",
            "description_tooltip": null,
            "layout": "IPY_MODEL_73cfeb487fa945c7a2a6a5956f3fea10",
            "placeholder": "​",
            "style": "IPY_MODEL_2471de6e8d27440bb850d9699d0b6558",
            "value": " 442M/442M [00:04&lt;00:00, 89.3MB/s]"
          }
        },
        "6a179b7e6a2a41bf83040201a60c7add": {
          "model_module": "@jupyter-widgets/base",
          "model_name": "LayoutModel",
          "model_module_version": "1.2.0",
          "state": {
            "_model_module": "@jupyter-widgets/base",
            "_model_module_version": "1.2.0",
            "_model_name": "LayoutModel",
            "_view_count": null,
            "_view_module": "@jupyter-widgets/base",
            "_view_module_version": "1.2.0",
            "_view_name": "LayoutView",
            "align_content": null,
            "align_items": null,
            "align_self": null,
            "border": null,
            "bottom": null,
            "display": null,
            "flex": null,
            "flex_flow": null,
            "grid_area": null,
            "grid_auto_columns": null,
            "grid_auto_flow": null,
            "grid_auto_rows": null,
            "grid_column": null,
            "grid_gap": null,
            "grid_row": null,
            "grid_template_areas": null,
            "grid_template_columns": null,
            "grid_template_rows": null,
            "height": null,
            "justify_content": null,
            "justify_items": null,
            "left": null,
            "margin": null,
            "max_height": null,
            "max_width": null,
            "min_height": null,
            "min_width": null,
            "object_fit": null,
            "object_position": null,
            "order": null,
            "overflow": null,
            "overflow_x": null,
            "overflow_y": null,
            "padding": null,
            "right": null,
            "top": null,
            "visibility": null,
            "width": null
          }
        },
        "93c813cc25f44007b872e73ff7a5fdc4": {
          "model_module": "@jupyter-widgets/base",
          "model_name": "LayoutModel",
          "model_module_version": "1.2.0",
          "state": {
            "_model_module": "@jupyter-widgets/base",
            "_model_module_version": "1.2.0",
            "_model_name": "LayoutModel",
            "_view_count": null,
            "_view_module": "@jupyter-widgets/base",
            "_view_module_version": "1.2.0",
            "_view_name": "LayoutView",
            "align_content": null,
            "align_items": null,
            "align_self": null,
            "border": null,
            "bottom": null,
            "display": null,
            "flex": null,
            "flex_flow": null,
            "grid_area": null,
            "grid_auto_columns": null,
            "grid_auto_flow": null,
            "grid_auto_rows": null,
            "grid_column": null,
            "grid_gap": null,
            "grid_row": null,
            "grid_template_areas": null,
            "grid_template_columns": null,
            "grid_template_rows": null,
            "height": null,
            "justify_content": null,
            "justify_items": null,
            "left": null,
            "margin": null,
            "max_height": null,
            "max_width": null,
            "min_height": null,
            "min_width": null,
            "object_fit": null,
            "object_position": null,
            "order": null,
            "overflow": null,
            "overflow_x": null,
            "overflow_y": null,
            "padding": null,
            "right": null,
            "top": null,
            "visibility": null,
            "width": null
          }
        },
        "dc412b8555554a9e8de6f97da1756dfa": {
          "model_module": "@jupyter-widgets/controls",
          "model_name": "DescriptionStyleModel",
          "model_module_version": "1.5.0",
          "state": {
            "_model_module": "@jupyter-widgets/controls",
            "_model_module_version": "1.5.0",
            "_model_name": "DescriptionStyleModel",
            "_view_count": null,
            "_view_module": "@jupyter-widgets/base",
            "_view_module_version": "1.2.0",
            "_view_name": "StyleView",
            "description_width": ""
          }
        },
        "917aae02f23d4901bb2a9071609eef20": {
          "model_module": "@jupyter-widgets/base",
          "model_name": "LayoutModel",
          "model_module_version": "1.2.0",
          "state": {
            "_model_module": "@jupyter-widgets/base",
            "_model_module_version": "1.2.0",
            "_model_name": "LayoutModel",
            "_view_count": null,
            "_view_module": "@jupyter-widgets/base",
            "_view_module_version": "1.2.0",
            "_view_name": "LayoutView",
            "align_content": null,
            "align_items": null,
            "align_self": null,
            "border": null,
            "bottom": null,
            "display": null,
            "flex": null,
            "flex_flow": null,
            "grid_area": null,
            "grid_auto_columns": null,
            "grid_auto_flow": null,
            "grid_auto_rows": null,
            "grid_column": null,
            "grid_gap": null,
            "grid_row": null,
            "grid_template_areas": null,
            "grid_template_columns": null,
            "grid_template_rows": null,
            "height": null,
            "justify_content": null,
            "justify_items": null,
            "left": null,
            "margin": null,
            "max_height": null,
            "max_width": null,
            "min_height": null,
            "min_width": null,
            "object_fit": null,
            "object_position": null,
            "order": null,
            "overflow": null,
            "overflow_x": null,
            "overflow_y": null,
            "padding": null,
            "right": null,
            "top": null,
            "visibility": null,
            "width": null
          }
        },
        "b404c5a9420c4ea1a14b4980ffb24deb": {
          "model_module": "@jupyter-widgets/controls",
          "model_name": "ProgressStyleModel",
          "model_module_version": "1.5.0",
          "state": {
            "_model_module": "@jupyter-widgets/controls",
            "_model_module_version": "1.5.0",
            "_model_name": "ProgressStyleModel",
            "_view_count": null,
            "_view_module": "@jupyter-widgets/base",
            "_view_module_version": "1.2.0",
            "_view_name": "StyleView",
            "bar_color": null,
            "description_width": ""
          }
        },
        "73cfeb487fa945c7a2a6a5956f3fea10": {
          "model_module": "@jupyter-widgets/base",
          "model_name": "LayoutModel",
          "model_module_version": "1.2.0",
          "state": {
            "_model_module": "@jupyter-widgets/base",
            "_model_module_version": "1.2.0",
            "_model_name": "LayoutModel",
            "_view_count": null,
            "_view_module": "@jupyter-widgets/base",
            "_view_module_version": "1.2.0",
            "_view_name": "LayoutView",
            "align_content": null,
            "align_items": null,
            "align_self": null,
            "border": null,
            "bottom": null,
            "display": null,
            "flex": null,
            "flex_flow": null,
            "grid_area": null,
            "grid_auto_columns": null,
            "grid_auto_flow": null,
            "grid_auto_rows": null,
            "grid_column": null,
            "grid_gap": null,
            "grid_row": null,
            "grid_template_areas": null,
            "grid_template_columns": null,
            "grid_template_rows": null,
            "height": null,
            "justify_content": null,
            "justify_items": null,
            "left": null,
            "margin": null,
            "max_height": null,
            "max_width": null,
            "min_height": null,
            "min_width": null,
            "object_fit": null,
            "object_position": null,
            "order": null,
            "overflow": null,
            "overflow_x": null,
            "overflow_y": null,
            "padding": null,
            "right": null,
            "top": null,
            "visibility": null,
            "width": null
          }
        },
        "2471de6e8d27440bb850d9699d0b6558": {
          "model_module": "@jupyter-widgets/controls",
          "model_name": "DescriptionStyleModel",
          "model_module_version": "1.5.0",
          "state": {
            "_model_module": "@jupyter-widgets/controls",
            "_model_module_version": "1.5.0",
            "_model_name": "DescriptionStyleModel",
            "_view_count": null,
            "_view_module": "@jupyter-widgets/base",
            "_view_module_version": "1.2.0",
            "_view_name": "StyleView",
            "description_width": ""
          }
        },
        "cabdf19bf19d4b7899cbab377108ba3a": {
          "model_module": "@jupyter-widgets/controls",
          "model_name": "HBoxModel",
          "model_module_version": "1.5.0",
          "state": {
            "_dom_classes": [],
            "_model_module": "@jupyter-widgets/controls",
            "_model_module_version": "1.5.0",
            "_model_name": "HBoxModel",
            "_view_count": null,
            "_view_module": "@jupyter-widgets/controls",
            "_view_module_version": "1.5.0",
            "_view_name": "HBoxView",
            "box_style": "",
            "children": [
              "IPY_MODEL_bd38c66863154b9abc656653fcd41462",
              "IPY_MODEL_ac11c90df8354d1a9c367dab4de6c378",
              "IPY_MODEL_c540160274644784b55320f5340072ec"
            ],
            "layout": "IPY_MODEL_4dfd8e7c86ee4702875d5b387e7ef349"
          }
        },
        "bd38c66863154b9abc656653fcd41462": {
          "model_module": "@jupyter-widgets/controls",
          "model_name": "HTMLModel",
          "model_module_version": "1.5.0",
          "state": {
            "_dom_classes": [],
            "_model_module": "@jupyter-widgets/controls",
            "_model_module_version": "1.5.0",
            "_model_name": "HTMLModel",
            "_view_count": null,
            "_view_module": "@jupyter-widgets/controls",
            "_view_module_version": "1.5.0",
            "_view_name": "HTMLView",
            "description": "",
            "description_tooltip": null,
            "layout": "IPY_MODEL_4d768b35ca1b4657906b6c05f9403b7c",
            "placeholder": "​",
            "style": "IPY_MODEL_68b31f963df64c87901761db20ab21c9",
            "value": "config.json: 100%"
          }
        },
        "ac11c90df8354d1a9c367dab4de6c378": {
          "model_module": "@jupyter-widgets/controls",
          "model_name": "FloatProgressModel",
          "model_module_version": "1.5.0",
          "state": {
            "_dom_classes": [],
            "_model_module": "@jupyter-widgets/controls",
            "_model_module_version": "1.5.0",
            "_model_name": "FloatProgressModel",
            "_view_count": null,
            "_view_module": "@jupyter-widgets/controls",
            "_view_module_version": "1.5.0",
            "_view_name": "ProgressView",
            "bar_style": "success",
            "description": "",
            "description_tooltip": null,
            "layout": "IPY_MODEL_28f7e6a27151480a99fc146223ff483f",
            "max": 1392,
            "min": 0,
            "orientation": "horizontal",
            "style": "IPY_MODEL_882ae0099d8a4cfdbb113402723e5ac3",
            "value": 1392
          }
        },
        "c540160274644784b55320f5340072ec": {
          "model_module": "@jupyter-widgets/controls",
          "model_name": "HTMLModel",
          "model_module_version": "1.5.0",
          "state": {
            "_dom_classes": [],
            "_model_module": "@jupyter-widgets/controls",
            "_model_module_version": "1.5.0",
            "_model_name": "HTMLModel",
            "_view_count": null,
            "_view_module": "@jupyter-widgets/controls",
            "_view_module_version": "1.5.0",
            "_view_name": "HTMLView",
            "description": "",
            "description_tooltip": null,
            "layout": "IPY_MODEL_1a44bf62fb994d7998e7e2dbec3438f2",
            "placeholder": "​",
            "style": "IPY_MODEL_b15076dc74b049f2b934febf4b2bdb31",
            "value": " 1.39k/1.39k [00:00&lt;00:00, 24.6kB/s]"
          }
        },
        "4dfd8e7c86ee4702875d5b387e7ef349": {
          "model_module": "@jupyter-widgets/base",
          "model_name": "LayoutModel",
          "model_module_version": "1.2.0",
          "state": {
            "_model_module": "@jupyter-widgets/base",
            "_model_module_version": "1.2.0",
            "_model_name": "LayoutModel",
            "_view_count": null,
            "_view_module": "@jupyter-widgets/base",
            "_view_module_version": "1.2.0",
            "_view_name": "LayoutView",
            "align_content": null,
            "align_items": null,
            "align_self": null,
            "border": null,
            "bottom": null,
            "display": null,
            "flex": null,
            "flex_flow": null,
            "grid_area": null,
            "grid_auto_columns": null,
            "grid_auto_flow": null,
            "grid_auto_rows": null,
            "grid_column": null,
            "grid_gap": null,
            "grid_row": null,
            "grid_template_areas": null,
            "grid_template_columns": null,
            "grid_template_rows": null,
            "height": null,
            "justify_content": null,
            "justify_items": null,
            "left": null,
            "margin": null,
            "max_height": null,
            "max_width": null,
            "min_height": null,
            "min_width": null,
            "object_fit": null,
            "object_position": null,
            "order": null,
            "overflow": null,
            "overflow_x": null,
            "overflow_y": null,
            "padding": null,
            "right": null,
            "top": null,
            "visibility": null,
            "width": null
          }
        },
        "4d768b35ca1b4657906b6c05f9403b7c": {
          "model_module": "@jupyter-widgets/base",
          "model_name": "LayoutModel",
          "model_module_version": "1.2.0",
          "state": {
            "_model_module": "@jupyter-widgets/base",
            "_model_module_version": "1.2.0",
            "_model_name": "LayoutModel",
            "_view_count": null,
            "_view_module": "@jupyter-widgets/base",
            "_view_module_version": "1.2.0",
            "_view_name": "LayoutView",
            "align_content": null,
            "align_items": null,
            "align_self": null,
            "border": null,
            "bottom": null,
            "display": null,
            "flex": null,
            "flex_flow": null,
            "grid_area": null,
            "grid_auto_columns": null,
            "grid_auto_flow": null,
            "grid_auto_rows": null,
            "grid_column": null,
            "grid_gap": null,
            "grid_row": null,
            "grid_template_areas": null,
            "grid_template_columns": null,
            "grid_template_rows": null,
            "height": null,
            "justify_content": null,
            "justify_items": null,
            "left": null,
            "margin": null,
            "max_height": null,
            "max_width": null,
            "min_height": null,
            "min_width": null,
            "object_fit": null,
            "object_position": null,
            "order": null,
            "overflow": null,
            "overflow_x": null,
            "overflow_y": null,
            "padding": null,
            "right": null,
            "top": null,
            "visibility": null,
            "width": null
          }
        },
        "68b31f963df64c87901761db20ab21c9": {
          "model_module": "@jupyter-widgets/controls",
          "model_name": "DescriptionStyleModel",
          "model_module_version": "1.5.0",
          "state": {
            "_model_module": "@jupyter-widgets/controls",
            "_model_module_version": "1.5.0",
            "_model_name": "DescriptionStyleModel",
            "_view_count": null,
            "_view_module": "@jupyter-widgets/base",
            "_view_module_version": "1.2.0",
            "_view_name": "StyleView",
            "description_width": ""
          }
        },
        "28f7e6a27151480a99fc146223ff483f": {
          "model_module": "@jupyter-widgets/base",
          "model_name": "LayoutModel",
          "model_module_version": "1.2.0",
          "state": {
            "_model_module": "@jupyter-widgets/base",
            "_model_module_version": "1.2.0",
            "_model_name": "LayoutModel",
            "_view_count": null,
            "_view_module": "@jupyter-widgets/base",
            "_view_module_version": "1.2.0",
            "_view_name": "LayoutView",
            "align_content": null,
            "align_items": null,
            "align_self": null,
            "border": null,
            "bottom": null,
            "display": null,
            "flex": null,
            "flex_flow": null,
            "grid_area": null,
            "grid_auto_columns": null,
            "grid_auto_flow": null,
            "grid_auto_rows": null,
            "grid_column": null,
            "grid_gap": null,
            "grid_row": null,
            "grid_template_areas": null,
            "grid_template_columns": null,
            "grid_template_rows": null,
            "height": null,
            "justify_content": null,
            "justify_items": null,
            "left": null,
            "margin": null,
            "max_height": null,
            "max_width": null,
            "min_height": null,
            "min_width": null,
            "object_fit": null,
            "object_position": null,
            "order": null,
            "overflow": null,
            "overflow_x": null,
            "overflow_y": null,
            "padding": null,
            "right": null,
            "top": null,
            "visibility": null,
            "width": null
          }
        },
        "882ae0099d8a4cfdbb113402723e5ac3": {
          "model_module": "@jupyter-widgets/controls",
          "model_name": "ProgressStyleModel",
          "model_module_version": "1.5.0",
          "state": {
            "_model_module": "@jupyter-widgets/controls",
            "_model_module_version": "1.5.0",
            "_model_name": "ProgressStyleModel",
            "_view_count": null,
            "_view_module": "@jupyter-widgets/base",
            "_view_module_version": "1.2.0",
            "_view_name": "StyleView",
            "bar_color": null,
            "description_width": ""
          }
        },
        "1a44bf62fb994d7998e7e2dbec3438f2": {
          "model_module": "@jupyter-widgets/base",
          "model_name": "LayoutModel",
          "model_module_version": "1.2.0",
          "state": {
            "_model_module": "@jupyter-widgets/base",
            "_model_module_version": "1.2.0",
            "_model_name": "LayoutModel",
            "_view_count": null,
            "_view_module": "@jupyter-widgets/base",
            "_view_module_version": "1.2.0",
            "_view_name": "LayoutView",
            "align_content": null,
            "align_items": null,
            "align_self": null,
            "border": null,
            "bottom": null,
            "display": null,
            "flex": null,
            "flex_flow": null,
            "grid_area": null,
            "grid_auto_columns": null,
            "grid_auto_flow": null,
            "grid_auto_rows": null,
            "grid_column": null,
            "grid_gap": null,
            "grid_row": null,
            "grid_template_areas": null,
            "grid_template_columns": null,
            "grid_template_rows": null,
            "height": null,
            "justify_content": null,
            "justify_items": null,
            "left": null,
            "margin": null,
            "max_height": null,
            "max_width": null,
            "min_height": null,
            "min_width": null,
            "object_fit": null,
            "object_position": null,
            "order": null,
            "overflow": null,
            "overflow_x": null,
            "overflow_y": null,
            "padding": null,
            "right": null,
            "top": null,
            "visibility": null,
            "width": null
          }
        },
        "b15076dc74b049f2b934febf4b2bdb31": {
          "model_module": "@jupyter-widgets/controls",
          "model_name": "DescriptionStyleModel",
          "model_module_version": "1.5.0",
          "state": {
            "_model_module": "@jupyter-widgets/controls",
            "_model_module_version": "1.5.0",
            "_model_name": "DescriptionStyleModel",
            "_view_count": null,
            "_view_module": "@jupyter-widgets/base",
            "_view_module_version": "1.2.0",
            "_view_name": "StyleView",
            "description_width": ""
          }
        },
        "60d3e56428734fe88a9a918da148ac53": {
          "model_module": "@jupyter-widgets/controls",
          "model_name": "HBoxModel",
          "model_module_version": "1.5.0",
          "state": {
            "_dom_classes": [],
            "_model_module": "@jupyter-widgets/controls",
            "_model_module_version": "1.5.0",
            "_model_name": "HBoxModel",
            "_view_count": null,
            "_view_module": "@jupyter-widgets/controls",
            "_view_module_version": "1.5.0",
            "_view_name": "HBoxView",
            "box_style": "",
            "children": [
              "IPY_MODEL_0138935a4bd14a6ba85196812538caaf",
              "IPY_MODEL_188923e4c3dd4ae8a36c5d3cd8957ba7",
              "IPY_MODEL_5c9a35ff36604fd8a0e8a55603f7212c"
            ],
            "layout": "IPY_MODEL_9509ab14454e4e96baa93d0326fb3ee3"
          }
        },
        "0138935a4bd14a6ba85196812538caaf": {
          "model_module": "@jupyter-widgets/controls",
          "model_name": "HTMLModel",
          "model_module_version": "1.5.0",
          "state": {
            "_dom_classes": [],
            "_model_module": "@jupyter-widgets/controls",
            "_model_module_version": "1.5.0",
            "_model_name": "HTMLModel",
            "_view_count": null,
            "_view_module": "@jupyter-widgets/controls",
            "_view_module_version": "1.5.0",
            "_view_name": "HTMLView",
            "description": "",
            "description_tooltip": null,
            "layout": "IPY_MODEL_d1dbe90e012a44a996fa6bcc1990e474",
            "placeholder": "​",
            "style": "IPY_MODEL_ab205ea5b9494a05b229d6787d0b0f3d",
            "value": "pytorch_model.bin: 100%"
          }
        },
        "188923e4c3dd4ae8a36c5d3cd8957ba7": {
          "model_module": "@jupyter-widgets/controls",
          "model_name": "FloatProgressModel",
          "model_module_version": "1.5.0",
          "state": {
            "_dom_classes": [],
            "_model_module": "@jupyter-widgets/controls",
            "_model_module_version": "1.5.0",
            "_model_name": "FloatProgressModel",
            "_view_count": null,
            "_view_module": "@jupyter-widgets/controls",
            "_view_module_version": "1.5.0",
            "_view_name": "ProgressView",
            "bar_style": "success",
            "description": "",
            "description_tooltip": null,
            "layout": "IPY_MODEL_9f1a0f4814d34d9ca040ecaeee3bd5fb",
            "max": 2275329241,
            "min": 0,
            "orientation": "horizontal",
            "style": "IPY_MODEL_c830634d1c714e9486018a0ad701e888",
            "value": 2275329241
          }
        },
        "5c9a35ff36604fd8a0e8a55603f7212c": {
          "model_module": "@jupyter-widgets/controls",
          "model_name": "HTMLModel",
          "model_module_version": "1.5.0",
          "state": {
            "_dom_classes": [],
            "_model_module": "@jupyter-widgets/controls",
            "_model_module_version": "1.5.0",
            "_model_name": "HTMLModel",
            "_view_count": null,
            "_view_module": "@jupyter-widgets/controls",
            "_view_module_version": "1.5.0",
            "_view_name": "HTMLView",
            "description": "",
            "description_tooltip": null,
            "layout": "IPY_MODEL_6b07fa6f239c48f6835ae922134fc7dc",
            "placeholder": "​",
            "style": "IPY_MODEL_4a475e0c606a4d109aa0f0ff1c6fc228",
            "value": " 2.28G/2.28G [00:25&lt;00:00, 99.8MB/s]"
          }
        },
        "9509ab14454e4e96baa93d0326fb3ee3": {
          "model_module": "@jupyter-widgets/base",
          "model_name": "LayoutModel",
          "model_module_version": "1.2.0",
          "state": {
            "_model_module": "@jupyter-widgets/base",
            "_model_module_version": "1.2.0",
            "_model_name": "LayoutModel",
            "_view_count": null,
            "_view_module": "@jupyter-widgets/base",
            "_view_module_version": "1.2.0",
            "_view_name": "LayoutView",
            "align_content": null,
            "align_items": null,
            "align_self": null,
            "border": null,
            "bottom": null,
            "display": null,
            "flex": null,
            "flex_flow": null,
            "grid_area": null,
            "grid_auto_columns": null,
            "grid_auto_flow": null,
            "grid_auto_rows": null,
            "grid_column": null,
            "grid_gap": null,
            "grid_row": null,
            "grid_template_areas": null,
            "grid_template_columns": null,
            "grid_template_rows": null,
            "height": null,
            "justify_content": null,
            "justify_items": null,
            "left": null,
            "margin": null,
            "max_height": null,
            "max_width": null,
            "min_height": null,
            "min_width": null,
            "object_fit": null,
            "object_position": null,
            "order": null,
            "overflow": null,
            "overflow_x": null,
            "overflow_y": null,
            "padding": null,
            "right": null,
            "top": null,
            "visibility": null,
            "width": null
          }
        },
        "d1dbe90e012a44a996fa6bcc1990e474": {
          "model_module": "@jupyter-widgets/base",
          "model_name": "LayoutModel",
          "model_module_version": "1.2.0",
          "state": {
            "_model_module": "@jupyter-widgets/base",
            "_model_module_version": "1.2.0",
            "_model_name": "LayoutModel",
            "_view_count": null,
            "_view_module": "@jupyter-widgets/base",
            "_view_module_version": "1.2.0",
            "_view_name": "LayoutView",
            "align_content": null,
            "align_items": null,
            "align_self": null,
            "border": null,
            "bottom": null,
            "display": null,
            "flex": null,
            "flex_flow": null,
            "grid_area": null,
            "grid_auto_columns": null,
            "grid_auto_flow": null,
            "grid_auto_rows": null,
            "grid_column": null,
            "grid_gap": null,
            "grid_row": null,
            "grid_template_areas": null,
            "grid_template_columns": null,
            "grid_template_rows": null,
            "height": null,
            "justify_content": null,
            "justify_items": null,
            "left": null,
            "margin": null,
            "max_height": null,
            "max_width": null,
            "min_height": null,
            "min_width": null,
            "object_fit": null,
            "object_position": null,
            "order": null,
            "overflow": null,
            "overflow_x": null,
            "overflow_y": null,
            "padding": null,
            "right": null,
            "top": null,
            "visibility": null,
            "width": null
          }
        },
        "ab205ea5b9494a05b229d6787d0b0f3d": {
          "model_module": "@jupyter-widgets/controls",
          "model_name": "DescriptionStyleModel",
          "model_module_version": "1.5.0",
          "state": {
            "_model_module": "@jupyter-widgets/controls",
            "_model_module_version": "1.5.0",
            "_model_name": "DescriptionStyleModel",
            "_view_count": null,
            "_view_module": "@jupyter-widgets/base",
            "_view_module_version": "1.2.0",
            "_view_name": "StyleView",
            "description_width": ""
          }
        },
        "9f1a0f4814d34d9ca040ecaeee3bd5fb": {
          "model_module": "@jupyter-widgets/base",
          "model_name": "LayoutModel",
          "model_module_version": "1.2.0",
          "state": {
            "_model_module": "@jupyter-widgets/base",
            "_model_module_version": "1.2.0",
            "_model_name": "LayoutModel",
            "_view_count": null,
            "_view_module": "@jupyter-widgets/base",
            "_view_module_version": "1.2.0",
            "_view_name": "LayoutView",
            "align_content": null,
            "align_items": null,
            "align_self": null,
            "border": null,
            "bottom": null,
            "display": null,
            "flex": null,
            "flex_flow": null,
            "grid_area": null,
            "grid_auto_columns": null,
            "grid_auto_flow": null,
            "grid_auto_rows": null,
            "grid_column": null,
            "grid_gap": null,
            "grid_row": null,
            "grid_template_areas": null,
            "grid_template_columns": null,
            "grid_template_rows": null,
            "height": null,
            "justify_content": null,
            "justify_items": null,
            "left": null,
            "margin": null,
            "max_height": null,
            "max_width": null,
            "min_height": null,
            "min_width": null,
            "object_fit": null,
            "object_position": null,
            "order": null,
            "overflow": null,
            "overflow_x": null,
            "overflow_y": null,
            "padding": null,
            "right": null,
            "top": null,
            "visibility": null,
            "width": null
          }
        },
        "c830634d1c714e9486018a0ad701e888": {
          "model_module": "@jupyter-widgets/controls",
          "model_name": "ProgressStyleModel",
          "model_module_version": "1.5.0",
          "state": {
            "_model_module": "@jupyter-widgets/controls",
            "_model_module_version": "1.5.0",
            "_model_name": "ProgressStyleModel",
            "_view_count": null,
            "_view_module": "@jupyter-widgets/base",
            "_view_module_version": "1.2.0",
            "_view_name": "StyleView",
            "bar_color": null,
            "description_width": ""
          }
        },
        "6b07fa6f239c48f6835ae922134fc7dc": {
          "model_module": "@jupyter-widgets/base",
          "model_name": "LayoutModel",
          "model_module_version": "1.2.0",
          "state": {
            "_model_module": "@jupyter-widgets/base",
            "_model_module_version": "1.2.0",
            "_model_name": "LayoutModel",
            "_view_count": null,
            "_view_module": "@jupyter-widgets/base",
            "_view_module_version": "1.2.0",
            "_view_name": "LayoutView",
            "align_content": null,
            "align_items": null,
            "align_self": null,
            "border": null,
            "bottom": null,
            "display": null,
            "flex": null,
            "flex_flow": null,
            "grid_area": null,
            "grid_auto_columns": null,
            "grid_auto_flow": null,
            "grid_auto_rows": null,
            "grid_column": null,
            "grid_gap": null,
            "grid_row": null,
            "grid_template_areas": null,
            "grid_template_columns": null,
            "grid_template_rows": null,
            "height": null,
            "justify_content": null,
            "justify_items": null,
            "left": null,
            "margin": null,
            "max_height": null,
            "max_width": null,
            "min_height": null,
            "min_width": null,
            "object_fit": null,
            "object_position": null,
            "order": null,
            "overflow": null,
            "overflow_x": null,
            "overflow_y": null,
            "padding": null,
            "right": null,
            "top": null,
            "visibility": null,
            "width": null
          }
        },
        "4a475e0c606a4d109aa0f0ff1c6fc228": {
          "model_module": "@jupyter-widgets/controls",
          "model_name": "DescriptionStyleModel",
          "model_module_version": "1.5.0",
          "state": {
            "_model_module": "@jupyter-widgets/controls",
            "_model_module_version": "1.5.0",
            "_model_name": "DescriptionStyleModel",
            "_view_count": null,
            "_view_module": "@jupyter-widgets/base",
            "_view_module_version": "1.2.0",
            "_view_name": "StyleView",
            "description_width": ""
          }
        },
        "01450764a015434da3f7166ad52d1f61": {
          "model_module": "@jupyter-widgets/controls",
          "model_name": "HBoxModel",
          "model_module_version": "1.5.0",
          "state": {
            "_dom_classes": [],
            "_model_module": "@jupyter-widgets/controls",
            "_model_module_version": "1.5.0",
            "_model_name": "HBoxModel",
            "_view_count": null,
            "_view_module": "@jupyter-widgets/controls",
            "_view_module_version": "1.5.0",
            "_view_name": "HBoxView",
            "box_style": "",
            "children": [
              "IPY_MODEL_1bca9888b35f40daa2f99b57c5566846",
              "IPY_MODEL_657d8fbcf39e41a89b8f1d3ab154dcc7",
              "IPY_MODEL_ddac7dc0dbeb41a48708beaf086af1d0"
            ],
            "layout": "IPY_MODEL_c4d64c21ec414167b6c2447be651d28d"
          }
        },
        "1bca9888b35f40daa2f99b57c5566846": {
          "model_module": "@jupyter-widgets/controls",
          "model_name": "HTMLModel",
          "model_module_version": "1.5.0",
          "state": {
            "_dom_classes": [],
            "_model_module": "@jupyter-widgets/controls",
            "_model_module_version": "1.5.0",
            "_model_name": "HTMLModel",
            "_view_count": null,
            "_view_module": "@jupyter-widgets/controls",
            "_view_module_version": "1.5.0",
            "_view_name": "HTMLView",
            "description": "",
            "description_tooltip": null,
            "layout": "IPY_MODEL_5b2942d00b7b4f3a9637cf439a2e0450",
            "placeholder": "​",
            "style": "IPY_MODEL_dc5fb6884f744e41a100142481736f65",
            "value": "generation_config.json: 100%"
          }
        },
        "657d8fbcf39e41a89b8f1d3ab154dcc7": {
          "model_module": "@jupyter-widgets/controls",
          "model_name": "FloatProgressModel",
          "model_module_version": "1.5.0",
          "state": {
            "_dom_classes": [],
            "_model_module": "@jupyter-widgets/controls",
            "_model_module_version": "1.5.0",
            "_model_name": "FloatProgressModel",
            "_view_count": null,
            "_view_module": "@jupyter-widgets/controls",
            "_view_module_version": "1.5.0",
            "_view_name": "ProgressView",
            "bar_style": "success",
            "description": "",
            "description_tooltip": null,
            "layout": "IPY_MODEL_2e588fc7153a47a59b85ac2773e3c255",
            "max": 259,
            "min": 0,
            "orientation": "horizontal",
            "style": "IPY_MODEL_519b2535df56465788f2b5a63107f343",
            "value": 259
          }
        },
        "ddac7dc0dbeb41a48708beaf086af1d0": {
          "model_module": "@jupyter-widgets/controls",
          "model_name": "HTMLModel",
          "model_module_version": "1.5.0",
          "state": {
            "_dom_classes": [],
            "_model_module": "@jupyter-widgets/controls",
            "_model_module_version": "1.5.0",
            "_model_name": "HTMLModel",
            "_view_count": null,
            "_view_module": "@jupyter-widgets/controls",
            "_view_module_version": "1.5.0",
            "_view_name": "HTMLView",
            "description": "",
            "description_tooltip": null,
            "layout": "IPY_MODEL_c61298d4df194dc79fe61051ca83a703",
            "placeholder": "​",
            "style": "IPY_MODEL_9251336996f64774b6e9aeed8c44d6ad",
            "value": " 259/259 [00:00&lt;00:00, 16.8kB/s]"
          }
        },
        "c4d64c21ec414167b6c2447be651d28d": {
          "model_module": "@jupyter-widgets/base",
          "model_name": "LayoutModel",
          "model_module_version": "1.2.0",
          "state": {
            "_model_module": "@jupyter-widgets/base",
            "_model_module_version": "1.2.0",
            "_model_name": "LayoutModel",
            "_view_count": null,
            "_view_module": "@jupyter-widgets/base",
            "_view_module_version": "1.2.0",
            "_view_name": "LayoutView",
            "align_content": null,
            "align_items": null,
            "align_self": null,
            "border": null,
            "bottom": null,
            "display": null,
            "flex": null,
            "flex_flow": null,
            "grid_area": null,
            "grid_auto_columns": null,
            "grid_auto_flow": null,
            "grid_auto_rows": null,
            "grid_column": null,
            "grid_gap": null,
            "grid_row": null,
            "grid_template_areas": null,
            "grid_template_columns": null,
            "grid_template_rows": null,
            "height": null,
            "justify_content": null,
            "justify_items": null,
            "left": null,
            "margin": null,
            "max_height": null,
            "max_width": null,
            "min_height": null,
            "min_width": null,
            "object_fit": null,
            "object_position": null,
            "order": null,
            "overflow": null,
            "overflow_x": null,
            "overflow_y": null,
            "padding": null,
            "right": null,
            "top": null,
            "visibility": null,
            "width": null
          }
        },
        "5b2942d00b7b4f3a9637cf439a2e0450": {
          "model_module": "@jupyter-widgets/base",
          "model_name": "LayoutModel",
          "model_module_version": "1.2.0",
          "state": {
            "_model_module": "@jupyter-widgets/base",
            "_model_module_version": "1.2.0",
            "_model_name": "LayoutModel",
            "_view_count": null,
            "_view_module": "@jupyter-widgets/base",
            "_view_module_version": "1.2.0",
            "_view_name": "LayoutView",
            "align_content": null,
            "align_items": null,
            "align_self": null,
            "border": null,
            "bottom": null,
            "display": null,
            "flex": null,
            "flex_flow": null,
            "grid_area": null,
            "grid_auto_columns": null,
            "grid_auto_flow": null,
            "grid_auto_rows": null,
            "grid_column": null,
            "grid_gap": null,
            "grid_row": null,
            "grid_template_areas": null,
            "grid_template_columns": null,
            "grid_template_rows": null,
            "height": null,
            "justify_content": null,
            "justify_items": null,
            "left": null,
            "margin": null,
            "max_height": null,
            "max_width": null,
            "min_height": null,
            "min_width": null,
            "object_fit": null,
            "object_position": null,
            "order": null,
            "overflow": null,
            "overflow_x": null,
            "overflow_y": null,
            "padding": null,
            "right": null,
            "top": null,
            "visibility": null,
            "width": null
          }
        },
        "dc5fb6884f744e41a100142481736f65": {
          "model_module": "@jupyter-widgets/controls",
          "model_name": "DescriptionStyleModel",
          "model_module_version": "1.5.0",
          "state": {
            "_model_module": "@jupyter-widgets/controls",
            "_model_module_version": "1.5.0",
            "_model_name": "DescriptionStyleModel",
            "_view_count": null,
            "_view_module": "@jupyter-widgets/base",
            "_view_module_version": "1.2.0",
            "_view_name": "StyleView",
            "description_width": ""
          }
        },
        "2e588fc7153a47a59b85ac2773e3c255": {
          "model_module": "@jupyter-widgets/base",
          "model_name": "LayoutModel",
          "model_module_version": "1.2.0",
          "state": {
            "_model_module": "@jupyter-widgets/base",
            "_model_module_version": "1.2.0",
            "_model_name": "LayoutModel",
            "_view_count": null,
            "_view_module": "@jupyter-widgets/base",
            "_view_module_version": "1.2.0",
            "_view_name": "LayoutView",
            "align_content": null,
            "align_items": null,
            "align_self": null,
            "border": null,
            "bottom": null,
            "display": null,
            "flex": null,
            "flex_flow": null,
            "grid_area": null,
            "grid_auto_columns": null,
            "grid_auto_flow": null,
            "grid_auto_rows": null,
            "grid_column": null,
            "grid_gap": null,
            "grid_row": null,
            "grid_template_areas": null,
            "grid_template_columns": null,
            "grid_template_rows": null,
            "height": null,
            "justify_content": null,
            "justify_items": null,
            "left": null,
            "margin": null,
            "max_height": null,
            "max_width": null,
            "min_height": null,
            "min_width": null,
            "object_fit": null,
            "object_position": null,
            "order": null,
            "overflow": null,
            "overflow_x": null,
            "overflow_y": null,
            "padding": null,
            "right": null,
            "top": null,
            "visibility": null,
            "width": null
          }
        },
        "519b2535df56465788f2b5a63107f343": {
          "model_module": "@jupyter-widgets/controls",
          "model_name": "ProgressStyleModel",
          "model_module_version": "1.5.0",
          "state": {
            "_model_module": "@jupyter-widgets/controls",
            "_model_module_version": "1.5.0",
            "_model_name": "ProgressStyleModel",
            "_view_count": null,
            "_view_module": "@jupyter-widgets/base",
            "_view_module_version": "1.2.0",
            "_view_name": "StyleView",
            "bar_color": null,
            "description_width": ""
          }
        },
        "c61298d4df194dc79fe61051ca83a703": {
          "model_module": "@jupyter-widgets/base",
          "model_name": "LayoutModel",
          "model_module_version": "1.2.0",
          "state": {
            "_model_module": "@jupyter-widgets/base",
            "_model_module_version": "1.2.0",
            "_model_name": "LayoutModel",
            "_view_count": null,
            "_view_module": "@jupyter-widgets/base",
            "_view_module_version": "1.2.0",
            "_view_name": "LayoutView",
            "align_content": null,
            "align_items": null,
            "align_self": null,
            "border": null,
            "bottom": null,
            "display": null,
            "flex": null,
            "flex_flow": null,
            "grid_area": null,
            "grid_auto_columns": null,
            "grid_auto_flow": null,
            "grid_auto_rows": null,
            "grid_column": null,
            "grid_gap": null,
            "grid_row": null,
            "grid_template_areas": null,
            "grid_template_columns": null,
            "grid_template_rows": null,
            "height": null,
            "justify_content": null,
            "justify_items": null,
            "left": null,
            "margin": null,
            "max_height": null,
            "max_width": null,
            "min_height": null,
            "min_width": null,
            "object_fit": null,
            "object_position": null,
            "order": null,
            "overflow": null,
            "overflow_x": null,
            "overflow_y": null,
            "padding": null,
            "right": null,
            "top": null,
            "visibility": null,
            "width": null
          }
        },
        "9251336996f64774b6e9aeed8c44d6ad": {
          "model_module": "@jupyter-widgets/controls",
          "model_name": "DescriptionStyleModel",
          "model_module_version": "1.5.0",
          "state": {
            "_model_module": "@jupyter-widgets/controls",
            "_model_module_version": "1.5.0",
            "_model_name": "DescriptionStyleModel",
            "_view_count": null,
            "_view_module": "@jupyter-widgets/base",
            "_view_module_version": "1.2.0",
            "_view_name": "StyleView",
            "description_width": ""
          }
        },
        "dab33f29e8e749d5a3a43d8232810317": {
          "model_module": "@jupyter-widgets/controls",
          "model_name": "HBoxModel",
          "model_module_version": "1.5.0",
          "state": {
            "_dom_classes": [],
            "_model_module": "@jupyter-widgets/controls",
            "_model_module_version": "1.5.0",
            "_model_name": "HBoxModel",
            "_view_count": null,
            "_view_module": "@jupyter-widgets/controls",
            "_view_module_version": "1.5.0",
            "_view_name": "HBoxView",
            "box_style": "",
            "children": [
              "IPY_MODEL_eb0be11a51d54889932d83f3ea108dcc",
              "IPY_MODEL_f1975e643fa54524a9fff9ea8677e64e",
              "IPY_MODEL_3238fd4ac8b94bcca57aa214f01bb13e"
            ],
            "layout": "IPY_MODEL_893834fef85a43548e161dfa2b358364"
          }
        },
        "eb0be11a51d54889932d83f3ea108dcc": {
          "model_module": "@jupyter-widgets/controls",
          "model_name": "HTMLModel",
          "model_module_version": "1.5.0",
          "state": {
            "_dom_classes": [],
            "_model_module": "@jupyter-widgets/controls",
            "_model_module_version": "1.5.0",
            "_model_name": "HTMLModel",
            "_view_count": null,
            "_view_module": "@jupyter-widgets/controls",
            "_view_module_version": "1.5.0",
            "_view_name": "HTMLView",
            "description": "",
            "description_tooltip": null,
            "layout": "IPY_MODEL_e896c4e0dd1c4bf1ae9ff14df1ab8d7a",
            "placeholder": "​",
            "style": "IPY_MODEL_98ad9de47bb347e18a4a1c3090f86752",
            "value": "tokenizer_config.json: 100%"
          }
        },
        "f1975e643fa54524a9fff9ea8677e64e": {
          "model_module": "@jupyter-widgets/controls",
          "model_name": "FloatProgressModel",
          "model_module_version": "1.5.0",
          "state": {
            "_dom_classes": [],
            "_model_module": "@jupyter-widgets/controls",
            "_model_module_version": "1.5.0",
            "_model_name": "FloatProgressModel",
            "_view_count": null,
            "_view_module": "@jupyter-widgets/controls",
            "_view_module_version": "1.5.0",
            "_view_name": "ProgressView",
            "bar_style": "success",
            "description": "",
            "description_tooltip": null,
            "layout": "IPY_MODEL_05218035f9dc4e5c8c83b73ccaf9c44a",
            "max": 87,
            "min": 0,
            "orientation": "horizontal",
            "style": "IPY_MODEL_088915020d794464ab379fbaa98eb28e",
            "value": 87
          }
        },
        "3238fd4ac8b94bcca57aa214f01bb13e": {
          "model_module": "@jupyter-widgets/controls",
          "model_name": "HTMLModel",
          "model_module_version": "1.5.0",
          "state": {
            "_dom_classes": [],
            "_model_module": "@jupyter-widgets/controls",
            "_model_module_version": "1.5.0",
            "_model_name": "HTMLModel",
            "_view_count": null,
            "_view_module": "@jupyter-widgets/controls",
            "_view_module_version": "1.5.0",
            "_view_name": "HTMLView",
            "description": "",
            "description_tooltip": null,
            "layout": "IPY_MODEL_9bed71c567ac41fca9ceebce27e6fcd9",
            "placeholder": "​",
            "style": "IPY_MODEL_4f999ae0aab84402ad49bc9e0e2ec0aa",
            "value": " 87.0/87.0 [00:00&lt;00:00, 5.35kB/s]"
          }
        },
        "893834fef85a43548e161dfa2b358364": {
          "model_module": "@jupyter-widgets/base",
          "model_name": "LayoutModel",
          "model_module_version": "1.2.0",
          "state": {
            "_model_module": "@jupyter-widgets/base",
            "_model_module_version": "1.2.0",
            "_model_name": "LayoutModel",
            "_view_count": null,
            "_view_module": "@jupyter-widgets/base",
            "_view_module_version": "1.2.0",
            "_view_name": "LayoutView",
            "align_content": null,
            "align_items": null,
            "align_self": null,
            "border": null,
            "bottom": null,
            "display": null,
            "flex": null,
            "flex_flow": null,
            "grid_area": null,
            "grid_auto_columns": null,
            "grid_auto_flow": null,
            "grid_auto_rows": null,
            "grid_column": null,
            "grid_gap": null,
            "grid_row": null,
            "grid_template_areas": null,
            "grid_template_columns": null,
            "grid_template_rows": null,
            "height": null,
            "justify_content": null,
            "justify_items": null,
            "left": null,
            "margin": null,
            "max_height": null,
            "max_width": null,
            "min_height": null,
            "min_width": null,
            "object_fit": null,
            "object_position": null,
            "order": null,
            "overflow": null,
            "overflow_x": null,
            "overflow_y": null,
            "padding": null,
            "right": null,
            "top": null,
            "visibility": null,
            "width": null
          }
        },
        "e896c4e0dd1c4bf1ae9ff14df1ab8d7a": {
          "model_module": "@jupyter-widgets/base",
          "model_name": "LayoutModel",
          "model_module_version": "1.2.0",
          "state": {
            "_model_module": "@jupyter-widgets/base",
            "_model_module_version": "1.2.0",
            "_model_name": "LayoutModel",
            "_view_count": null,
            "_view_module": "@jupyter-widgets/base",
            "_view_module_version": "1.2.0",
            "_view_name": "LayoutView",
            "align_content": null,
            "align_items": null,
            "align_self": null,
            "border": null,
            "bottom": null,
            "display": null,
            "flex": null,
            "flex_flow": null,
            "grid_area": null,
            "grid_auto_columns": null,
            "grid_auto_flow": null,
            "grid_auto_rows": null,
            "grid_column": null,
            "grid_gap": null,
            "grid_row": null,
            "grid_template_areas": null,
            "grid_template_columns": null,
            "grid_template_rows": null,
            "height": null,
            "justify_content": null,
            "justify_items": null,
            "left": null,
            "margin": null,
            "max_height": null,
            "max_width": null,
            "min_height": null,
            "min_width": null,
            "object_fit": null,
            "object_position": null,
            "order": null,
            "overflow": null,
            "overflow_x": null,
            "overflow_y": null,
            "padding": null,
            "right": null,
            "top": null,
            "visibility": null,
            "width": null
          }
        },
        "98ad9de47bb347e18a4a1c3090f86752": {
          "model_module": "@jupyter-widgets/controls",
          "model_name": "DescriptionStyleModel",
          "model_module_version": "1.5.0",
          "state": {
            "_model_module": "@jupyter-widgets/controls",
            "_model_module_version": "1.5.0",
            "_model_name": "DescriptionStyleModel",
            "_view_count": null,
            "_view_module": "@jupyter-widgets/base",
            "_view_module_version": "1.2.0",
            "_view_name": "StyleView",
            "description_width": ""
          }
        },
        "05218035f9dc4e5c8c83b73ccaf9c44a": {
          "model_module": "@jupyter-widgets/base",
          "model_name": "LayoutModel",
          "model_module_version": "1.2.0",
          "state": {
            "_model_module": "@jupyter-widgets/base",
            "_model_module_version": "1.2.0",
            "_model_name": "LayoutModel",
            "_view_count": null,
            "_view_module": "@jupyter-widgets/base",
            "_view_module_version": "1.2.0",
            "_view_name": "LayoutView",
            "align_content": null,
            "align_items": null,
            "align_self": null,
            "border": null,
            "bottom": null,
            "display": null,
            "flex": null,
            "flex_flow": null,
            "grid_area": null,
            "grid_auto_columns": null,
            "grid_auto_flow": null,
            "grid_auto_rows": null,
            "grid_column": null,
            "grid_gap": null,
            "grid_row": null,
            "grid_template_areas": null,
            "grid_template_columns": null,
            "grid_template_rows": null,
            "height": null,
            "justify_content": null,
            "justify_items": null,
            "left": null,
            "margin": null,
            "max_height": null,
            "max_width": null,
            "min_height": null,
            "min_width": null,
            "object_fit": null,
            "object_position": null,
            "order": null,
            "overflow": null,
            "overflow_x": null,
            "overflow_y": null,
            "padding": null,
            "right": null,
            "top": null,
            "visibility": null,
            "width": null
          }
        },
        "088915020d794464ab379fbaa98eb28e": {
          "model_module": "@jupyter-widgets/controls",
          "model_name": "ProgressStyleModel",
          "model_module_version": "1.5.0",
          "state": {
            "_model_module": "@jupyter-widgets/controls",
            "_model_module_version": "1.5.0",
            "_model_name": "ProgressStyleModel",
            "_view_count": null,
            "_view_module": "@jupyter-widgets/base",
            "_view_module_version": "1.2.0",
            "_view_name": "StyleView",
            "bar_color": null,
            "description_width": ""
          }
        },
        "9bed71c567ac41fca9ceebce27e6fcd9": {
          "model_module": "@jupyter-widgets/base",
          "model_name": "LayoutModel",
          "model_module_version": "1.2.0",
          "state": {
            "_model_module": "@jupyter-widgets/base",
            "_model_module_version": "1.2.0",
            "_model_name": "LayoutModel",
            "_view_count": null,
            "_view_module": "@jupyter-widgets/base",
            "_view_module_version": "1.2.0",
            "_view_name": "LayoutView",
            "align_content": null,
            "align_items": null,
            "align_self": null,
            "border": null,
            "bottom": null,
            "display": null,
            "flex": null,
            "flex_flow": null,
            "grid_area": null,
            "grid_auto_columns": null,
            "grid_auto_flow": null,
            "grid_auto_rows": null,
            "grid_column": null,
            "grid_gap": null,
            "grid_row": null,
            "grid_template_areas": null,
            "grid_template_columns": null,
            "grid_template_rows": null,
            "height": null,
            "justify_content": null,
            "justify_items": null,
            "left": null,
            "margin": null,
            "max_height": null,
            "max_width": null,
            "min_height": null,
            "min_width": null,
            "object_fit": null,
            "object_position": null,
            "order": null,
            "overflow": null,
            "overflow_x": null,
            "overflow_y": null,
            "padding": null,
            "right": null,
            "top": null,
            "visibility": null,
            "width": null
          }
        },
        "4f999ae0aab84402ad49bc9e0e2ec0aa": {
          "model_module": "@jupyter-widgets/controls",
          "model_name": "DescriptionStyleModel",
          "model_module_version": "1.5.0",
          "state": {
            "_model_module": "@jupyter-widgets/controls",
            "_model_module_version": "1.5.0",
            "_model_name": "DescriptionStyleModel",
            "_view_count": null,
            "_view_module": "@jupyter-widgets/base",
            "_view_module_version": "1.2.0",
            "_view_name": "StyleView",
            "description_width": ""
          }
        },
        "34e25025b2d54417bbf5d4fc138c1106": {
          "model_module": "@jupyter-widgets/controls",
          "model_name": "HBoxModel",
          "model_module_version": "1.5.0",
          "state": {
            "_dom_classes": [],
            "_model_module": "@jupyter-widgets/controls",
            "_model_module_version": "1.5.0",
            "_model_name": "HBoxModel",
            "_view_count": null,
            "_view_module": "@jupyter-widgets/controls",
            "_view_module_version": "1.5.0",
            "_view_name": "HBoxView",
            "box_style": "",
            "children": [
              "IPY_MODEL_2318c39cb1b54c039eef02794f58fbb8",
              "IPY_MODEL_363b3fb4fbbe47b79639e8c9a01815ee",
              "IPY_MODEL_8fe6a448dbfd4217afca7d39a842acee"
            ],
            "layout": "IPY_MODEL_29312f6d1dac4bb1a2afdc45e4844e10"
          }
        },
        "2318c39cb1b54c039eef02794f58fbb8": {
          "model_module": "@jupyter-widgets/controls",
          "model_name": "HTMLModel",
          "model_module_version": "1.5.0",
          "state": {
            "_dom_classes": [],
            "_model_module": "@jupyter-widgets/controls",
            "_model_module_version": "1.5.0",
            "_model_name": "HTMLModel",
            "_view_count": null,
            "_view_module": "@jupyter-widgets/controls",
            "_view_module_version": "1.5.0",
            "_view_name": "HTMLView",
            "description": "",
            "description_tooltip": null,
            "layout": "IPY_MODEL_ad2d9c57a6454673bd88803abd606027",
            "placeholder": "​",
            "style": "IPY_MODEL_5970d146acaa427aa96dc175aab57208",
            "value": "spiece.model: 100%"
          }
        },
        "363b3fb4fbbe47b79639e8c9a01815ee": {
          "model_module": "@jupyter-widgets/controls",
          "model_name": "FloatProgressModel",
          "model_module_version": "1.5.0",
          "state": {
            "_dom_classes": [],
            "_model_module": "@jupyter-widgets/controls",
            "_model_module_version": "1.5.0",
            "_model_name": "FloatProgressModel",
            "_view_count": null,
            "_view_module": "@jupyter-widgets/controls",
            "_view_module_version": "1.5.0",
            "_view_name": "ProgressView",
            "bar_style": "success",
            "description": "",
            "description_tooltip": null,
            "layout": "IPY_MODEL_509c54bf9d134274a146f9dfdc700a87",
            "max": 1912529,
            "min": 0,
            "orientation": "horizontal",
            "style": "IPY_MODEL_e86abd845094425fb87afe5eebb802ec",
            "value": 1912529
          }
        },
        "8fe6a448dbfd4217afca7d39a842acee": {
          "model_module": "@jupyter-widgets/controls",
          "model_name": "HTMLModel",
          "model_module_version": "1.5.0",
          "state": {
            "_dom_classes": [],
            "_model_module": "@jupyter-widgets/controls",
            "_model_module_version": "1.5.0",
            "_model_name": "HTMLModel",
            "_view_count": null,
            "_view_module": "@jupyter-widgets/controls",
            "_view_module_version": "1.5.0",
            "_view_name": "HTMLView",
            "description": "",
            "description_tooltip": null,
            "layout": "IPY_MODEL_a477f392ab0247359d3d9673de529b7c",
            "placeholder": "​",
            "style": "IPY_MODEL_16e57af89e164d268115e40318dacb4e",
            "value": " 1.91M/1.91M [00:00&lt;00:00, 15.3MB/s]"
          }
        },
        "29312f6d1dac4bb1a2afdc45e4844e10": {
          "model_module": "@jupyter-widgets/base",
          "model_name": "LayoutModel",
          "model_module_version": "1.2.0",
          "state": {
            "_model_module": "@jupyter-widgets/base",
            "_model_module_version": "1.2.0",
            "_model_name": "LayoutModel",
            "_view_count": null,
            "_view_module": "@jupyter-widgets/base",
            "_view_module_version": "1.2.0",
            "_view_name": "LayoutView",
            "align_content": null,
            "align_items": null,
            "align_self": null,
            "border": null,
            "bottom": null,
            "display": null,
            "flex": null,
            "flex_flow": null,
            "grid_area": null,
            "grid_auto_columns": null,
            "grid_auto_flow": null,
            "grid_auto_rows": null,
            "grid_column": null,
            "grid_gap": null,
            "grid_row": null,
            "grid_template_areas": null,
            "grid_template_columns": null,
            "grid_template_rows": null,
            "height": null,
            "justify_content": null,
            "justify_items": null,
            "left": null,
            "margin": null,
            "max_height": null,
            "max_width": null,
            "min_height": null,
            "min_width": null,
            "object_fit": null,
            "object_position": null,
            "order": null,
            "overflow": null,
            "overflow_x": null,
            "overflow_y": null,
            "padding": null,
            "right": null,
            "top": null,
            "visibility": null,
            "width": null
          }
        },
        "ad2d9c57a6454673bd88803abd606027": {
          "model_module": "@jupyter-widgets/base",
          "model_name": "LayoutModel",
          "model_module_version": "1.2.0",
          "state": {
            "_model_module": "@jupyter-widgets/base",
            "_model_module_version": "1.2.0",
            "_model_name": "LayoutModel",
            "_view_count": null,
            "_view_module": "@jupyter-widgets/base",
            "_view_module_version": "1.2.0",
            "_view_name": "LayoutView",
            "align_content": null,
            "align_items": null,
            "align_self": null,
            "border": null,
            "bottom": null,
            "display": null,
            "flex": null,
            "flex_flow": null,
            "grid_area": null,
            "grid_auto_columns": null,
            "grid_auto_flow": null,
            "grid_auto_rows": null,
            "grid_column": null,
            "grid_gap": null,
            "grid_row": null,
            "grid_template_areas": null,
            "grid_template_columns": null,
            "grid_template_rows": null,
            "height": null,
            "justify_content": null,
            "justify_items": null,
            "left": null,
            "margin": null,
            "max_height": null,
            "max_width": null,
            "min_height": null,
            "min_width": null,
            "object_fit": null,
            "object_position": null,
            "order": null,
            "overflow": null,
            "overflow_x": null,
            "overflow_y": null,
            "padding": null,
            "right": null,
            "top": null,
            "visibility": null,
            "width": null
          }
        },
        "5970d146acaa427aa96dc175aab57208": {
          "model_module": "@jupyter-widgets/controls",
          "model_name": "DescriptionStyleModel",
          "model_module_version": "1.5.0",
          "state": {
            "_model_module": "@jupyter-widgets/controls",
            "_model_module_version": "1.5.0",
            "_model_name": "DescriptionStyleModel",
            "_view_count": null,
            "_view_module": "@jupyter-widgets/base",
            "_view_module_version": "1.2.0",
            "_view_name": "StyleView",
            "description_width": ""
          }
        },
        "509c54bf9d134274a146f9dfdc700a87": {
          "model_module": "@jupyter-widgets/base",
          "model_name": "LayoutModel",
          "model_module_version": "1.2.0",
          "state": {
            "_model_module": "@jupyter-widgets/base",
            "_model_module_version": "1.2.0",
            "_model_name": "LayoutModel",
            "_view_count": null,
            "_view_module": "@jupyter-widgets/base",
            "_view_module_version": "1.2.0",
            "_view_name": "LayoutView",
            "align_content": null,
            "align_items": null,
            "align_self": null,
            "border": null,
            "bottom": null,
            "display": null,
            "flex": null,
            "flex_flow": null,
            "grid_area": null,
            "grid_auto_columns": null,
            "grid_auto_flow": null,
            "grid_auto_rows": null,
            "grid_column": null,
            "grid_gap": null,
            "grid_row": null,
            "grid_template_areas": null,
            "grid_template_columns": null,
            "grid_template_rows": null,
            "height": null,
            "justify_content": null,
            "justify_items": null,
            "left": null,
            "margin": null,
            "max_height": null,
            "max_width": null,
            "min_height": null,
            "min_width": null,
            "object_fit": null,
            "object_position": null,
            "order": null,
            "overflow": null,
            "overflow_x": null,
            "overflow_y": null,
            "padding": null,
            "right": null,
            "top": null,
            "visibility": null,
            "width": null
          }
        },
        "e86abd845094425fb87afe5eebb802ec": {
          "model_module": "@jupyter-widgets/controls",
          "model_name": "ProgressStyleModel",
          "model_module_version": "1.5.0",
          "state": {
            "_model_module": "@jupyter-widgets/controls",
            "_model_module_version": "1.5.0",
            "_model_name": "ProgressStyleModel",
            "_view_count": null,
            "_view_module": "@jupyter-widgets/base",
            "_view_module_version": "1.2.0",
            "_view_name": "StyleView",
            "bar_color": null,
            "description_width": ""
          }
        },
        "a477f392ab0247359d3d9673de529b7c": {
          "model_module": "@jupyter-widgets/base",
          "model_name": "LayoutModel",
          "model_module_version": "1.2.0",
          "state": {
            "_model_module": "@jupyter-widgets/base",
            "_model_module_version": "1.2.0",
            "_model_name": "LayoutModel",
            "_view_count": null,
            "_view_module": "@jupyter-widgets/base",
            "_view_module_version": "1.2.0",
            "_view_name": "LayoutView",
            "align_content": null,
            "align_items": null,
            "align_self": null,
            "border": null,
            "bottom": null,
            "display": null,
            "flex": null,
            "flex_flow": null,
            "grid_area": null,
            "grid_auto_columns": null,
            "grid_auto_flow": null,
            "grid_auto_rows": null,
            "grid_column": null,
            "grid_gap": null,
            "grid_row": null,
            "grid_template_areas": null,
            "grid_template_columns": null,
            "grid_template_rows": null,
            "height": null,
            "justify_content": null,
            "justify_items": null,
            "left": null,
            "margin": null,
            "max_height": null,
            "max_width": null,
            "min_height": null,
            "min_width": null,
            "object_fit": null,
            "object_position": null,
            "order": null,
            "overflow": null,
            "overflow_x": null,
            "overflow_y": null,
            "padding": null,
            "right": null,
            "top": null,
            "visibility": null,
            "width": null
          }
        },
        "16e57af89e164d268115e40318dacb4e": {
          "model_module": "@jupyter-widgets/controls",
          "model_name": "DescriptionStyleModel",
          "model_module_version": "1.5.0",
          "state": {
            "_model_module": "@jupyter-widgets/controls",
            "_model_module_version": "1.5.0",
            "_model_name": "DescriptionStyleModel",
            "_view_count": null,
            "_view_module": "@jupyter-widgets/base",
            "_view_module_version": "1.2.0",
            "_view_name": "StyleView",
            "description_width": ""
          }
        },
        "5b578ade2d644c5180cce4ebd91f4049": {
          "model_module": "@jupyter-widgets/controls",
          "model_name": "HBoxModel",
          "model_module_version": "1.5.0",
          "state": {
            "_dom_classes": [],
            "_model_module": "@jupyter-widgets/controls",
            "_model_module_version": "1.5.0",
            "_model_name": "HBoxModel",
            "_view_count": null,
            "_view_module": "@jupyter-widgets/controls",
            "_view_module_version": "1.5.0",
            "_view_name": "HBoxView",
            "box_style": "",
            "children": [
              "IPY_MODEL_41142e7e71bb405286ba00e477b5227d",
              "IPY_MODEL_7c25a2b9d6af4afd8c74b3338d1abde5",
              "IPY_MODEL_71f356e09a78424c8d3ab2fdc9ac835f"
            ],
            "layout": "IPY_MODEL_29b50811a34b4e658b90d64f4ab439a5"
          }
        },
        "41142e7e71bb405286ba00e477b5227d": {
          "model_module": "@jupyter-widgets/controls",
          "model_name": "HTMLModel",
          "model_module_version": "1.5.0",
          "state": {
            "_dom_classes": [],
            "_model_module": "@jupyter-widgets/controls",
            "_model_module_version": "1.5.0",
            "_model_name": "HTMLModel",
            "_view_count": null,
            "_view_module": "@jupyter-widgets/controls",
            "_view_module_version": "1.5.0",
            "_view_name": "HTMLView",
            "description": "",
            "description_tooltip": null,
            "layout": "IPY_MODEL_0b35208abb174a03835a7ef1397715f6",
            "placeholder": "​",
            "style": "IPY_MODEL_4de34ec1765d474c963eafe91dd9940a",
            "value": "special_tokens_map.json: 100%"
          }
        },
        "7c25a2b9d6af4afd8c74b3338d1abde5": {
          "model_module": "@jupyter-widgets/controls",
          "model_name": "FloatProgressModel",
          "model_module_version": "1.5.0",
          "state": {
            "_dom_classes": [],
            "_model_module": "@jupyter-widgets/controls",
            "_model_module_version": "1.5.0",
            "_model_name": "FloatProgressModel",
            "_view_count": null,
            "_view_module": "@jupyter-widgets/controls",
            "_view_module_version": "1.5.0",
            "_view_name": "ProgressView",
            "bar_style": "success",
            "description": "",
            "description_tooltip": null,
            "layout": "IPY_MODEL_07d6d40ffee34c3c9047037492650393",
            "max": 65,
            "min": 0,
            "orientation": "horizontal",
            "style": "IPY_MODEL_de31fe4973544b6f8caafff04877826e",
            "value": 65
          }
        },
        "71f356e09a78424c8d3ab2fdc9ac835f": {
          "model_module": "@jupyter-widgets/controls",
          "model_name": "HTMLModel",
          "model_module_version": "1.5.0",
          "state": {
            "_dom_classes": [],
            "_model_module": "@jupyter-widgets/controls",
            "_model_module_version": "1.5.0",
            "_model_name": "HTMLModel",
            "_view_count": null,
            "_view_module": "@jupyter-widgets/controls",
            "_view_module_version": "1.5.0",
            "_view_name": "HTMLView",
            "description": "",
            "description_tooltip": null,
            "layout": "IPY_MODEL_449ed34731b948698c058cdb6d48095d",
            "placeholder": "​",
            "style": "IPY_MODEL_8495d1cb44184e4890cca0469a42ef3f",
            "value": " 65.0/65.0 [00:00&lt;00:00, 4.94kB/s]"
          }
        },
        "29b50811a34b4e658b90d64f4ab439a5": {
          "model_module": "@jupyter-widgets/base",
          "model_name": "LayoutModel",
          "model_module_version": "1.2.0",
          "state": {
            "_model_module": "@jupyter-widgets/base",
            "_model_module_version": "1.2.0",
            "_model_name": "LayoutModel",
            "_view_count": null,
            "_view_module": "@jupyter-widgets/base",
            "_view_module_version": "1.2.0",
            "_view_name": "LayoutView",
            "align_content": null,
            "align_items": null,
            "align_self": null,
            "border": null,
            "bottom": null,
            "display": null,
            "flex": null,
            "flex_flow": null,
            "grid_area": null,
            "grid_auto_columns": null,
            "grid_auto_flow": null,
            "grid_auto_rows": null,
            "grid_column": null,
            "grid_gap": null,
            "grid_row": null,
            "grid_template_areas": null,
            "grid_template_columns": null,
            "grid_template_rows": null,
            "height": null,
            "justify_content": null,
            "justify_items": null,
            "left": null,
            "margin": null,
            "max_height": null,
            "max_width": null,
            "min_height": null,
            "min_width": null,
            "object_fit": null,
            "object_position": null,
            "order": null,
            "overflow": null,
            "overflow_x": null,
            "overflow_y": null,
            "padding": null,
            "right": null,
            "top": null,
            "visibility": null,
            "width": null
          }
        },
        "0b35208abb174a03835a7ef1397715f6": {
          "model_module": "@jupyter-widgets/base",
          "model_name": "LayoutModel",
          "model_module_version": "1.2.0",
          "state": {
            "_model_module": "@jupyter-widgets/base",
            "_model_module_version": "1.2.0",
            "_model_name": "LayoutModel",
            "_view_count": null,
            "_view_module": "@jupyter-widgets/base",
            "_view_module_version": "1.2.0",
            "_view_name": "LayoutView",
            "align_content": null,
            "align_items": null,
            "align_self": null,
            "border": null,
            "bottom": null,
            "display": null,
            "flex": null,
            "flex_flow": null,
            "grid_area": null,
            "grid_auto_columns": null,
            "grid_auto_flow": null,
            "grid_auto_rows": null,
            "grid_column": null,
            "grid_gap": null,
            "grid_row": null,
            "grid_template_areas": null,
            "grid_template_columns": null,
            "grid_template_rows": null,
            "height": null,
            "justify_content": null,
            "justify_items": null,
            "left": null,
            "margin": null,
            "max_height": null,
            "max_width": null,
            "min_height": null,
            "min_width": null,
            "object_fit": null,
            "object_position": null,
            "order": null,
            "overflow": null,
            "overflow_x": null,
            "overflow_y": null,
            "padding": null,
            "right": null,
            "top": null,
            "visibility": null,
            "width": null
          }
        },
        "4de34ec1765d474c963eafe91dd9940a": {
          "model_module": "@jupyter-widgets/controls",
          "model_name": "DescriptionStyleModel",
          "model_module_version": "1.5.0",
          "state": {
            "_model_module": "@jupyter-widgets/controls",
            "_model_module_version": "1.5.0",
            "_model_name": "DescriptionStyleModel",
            "_view_count": null,
            "_view_module": "@jupyter-widgets/base",
            "_view_module_version": "1.2.0",
            "_view_name": "StyleView",
            "description_width": ""
          }
        },
        "07d6d40ffee34c3c9047037492650393": {
          "model_module": "@jupyter-widgets/base",
          "model_name": "LayoutModel",
          "model_module_version": "1.2.0",
          "state": {
            "_model_module": "@jupyter-widgets/base",
            "_model_module_version": "1.2.0",
            "_model_name": "LayoutModel",
            "_view_count": null,
            "_view_module": "@jupyter-widgets/base",
            "_view_module_version": "1.2.0",
            "_view_name": "LayoutView",
            "align_content": null,
            "align_items": null,
            "align_self": null,
            "border": null,
            "bottom": null,
            "display": null,
            "flex": null,
            "flex_flow": null,
            "grid_area": null,
            "grid_auto_columns": null,
            "grid_auto_flow": null,
            "grid_auto_rows": null,
            "grid_column": null,
            "grid_gap": null,
            "grid_row": null,
            "grid_template_areas": null,
            "grid_template_columns": null,
            "grid_template_rows": null,
            "height": null,
            "justify_content": null,
            "justify_items": null,
            "left": null,
            "margin": null,
            "max_height": null,
            "max_width": null,
            "min_height": null,
            "min_width": null,
            "object_fit": null,
            "object_position": null,
            "order": null,
            "overflow": null,
            "overflow_x": null,
            "overflow_y": null,
            "padding": null,
            "right": null,
            "top": null,
            "visibility": null,
            "width": null
          }
        },
        "de31fe4973544b6f8caafff04877826e": {
          "model_module": "@jupyter-widgets/controls",
          "model_name": "ProgressStyleModel",
          "model_module_version": "1.5.0",
          "state": {
            "_model_module": "@jupyter-widgets/controls",
            "_model_module_version": "1.5.0",
            "_model_name": "ProgressStyleModel",
            "_view_count": null,
            "_view_module": "@jupyter-widgets/base",
            "_view_module_version": "1.2.0",
            "_view_name": "StyleView",
            "bar_color": null,
            "description_width": ""
          }
        },
        "449ed34731b948698c058cdb6d48095d": {
          "model_module": "@jupyter-widgets/base",
          "model_name": "LayoutModel",
          "model_module_version": "1.2.0",
          "state": {
            "_model_module": "@jupyter-widgets/base",
            "_model_module_version": "1.2.0",
            "_model_name": "LayoutModel",
            "_view_count": null,
            "_view_module": "@jupyter-widgets/base",
            "_view_module_version": "1.2.0",
            "_view_name": "LayoutView",
            "align_content": null,
            "align_items": null,
            "align_self": null,
            "border": null,
            "bottom": null,
            "display": null,
            "flex": null,
            "flex_flow": null,
            "grid_area": null,
            "grid_auto_columns": null,
            "grid_auto_flow": null,
            "grid_auto_rows": null,
            "grid_column": null,
            "grid_gap": null,
            "grid_row": null,
            "grid_template_areas": null,
            "grid_template_columns": null,
            "grid_template_rows": null,
            "height": null,
            "justify_content": null,
            "justify_items": null,
            "left": null,
            "margin": null,
            "max_height": null,
            "max_width": null,
            "min_height": null,
            "min_width": null,
            "object_fit": null,
            "object_position": null,
            "order": null,
            "overflow": null,
            "overflow_x": null,
            "overflow_y": null,
            "padding": null,
            "right": null,
            "top": null,
            "visibility": null,
            "width": null
          }
        },
        "8495d1cb44184e4890cca0469a42ef3f": {
          "model_module": "@jupyter-widgets/controls",
          "model_name": "DescriptionStyleModel",
          "model_module_version": "1.5.0",
          "state": {
            "_model_module": "@jupyter-widgets/controls",
            "_model_module_version": "1.5.0",
            "_model_name": "DescriptionStyleModel",
            "_view_count": null,
            "_view_module": "@jupyter-widgets/base",
            "_view_module_version": "1.2.0",
            "_view_name": "StyleView",
            "description_width": ""
          }
        },
        "5ea36e1373624af29433297b0a76f4d6": {
          "model_module": "@jupyter-widgets/controls",
          "model_name": "HBoxModel",
          "model_module_version": "1.5.0",
          "state": {
            "_dom_classes": [],
            "_model_module": "@jupyter-widgets/controls",
            "_model_module_version": "1.5.0",
            "_model_name": "HBoxModel",
            "_view_count": null,
            "_view_module": "@jupyter-widgets/controls",
            "_view_module_version": "1.5.0",
            "_view_name": "HBoxView",
            "box_style": "",
            "children": [
              "IPY_MODEL_a257b47027aa4c41a0830a7c60d4759e",
              "IPY_MODEL_c9c4ae09c22c4085876bb244244c611a",
              "IPY_MODEL_9e58d309d6f148fa9b07dda7f4a38861"
            ],
            "layout": "IPY_MODEL_c62dc828fdc34370857676a3ecd14f44"
          }
        },
        "a257b47027aa4c41a0830a7c60d4759e": {
          "model_module": "@jupyter-widgets/controls",
          "model_name": "HTMLModel",
          "model_module_version": "1.5.0",
          "state": {
            "_dom_classes": [],
            "_model_module": "@jupyter-widgets/controls",
            "_model_module_version": "1.5.0",
            "_model_name": "HTMLModel",
            "_view_count": null,
            "_view_module": "@jupyter-widgets/controls",
            "_view_module_version": "1.5.0",
            "_view_name": "HTMLView",
            "description": "",
            "description_tooltip": null,
            "layout": "IPY_MODEL_460cca874ff148f896f2b445327a2c24",
            "placeholder": "​",
            "style": "IPY_MODEL_af2a597c83d049febdc2839638eca596",
            "value": "tokenizer.json: 100%"
          }
        },
        "c9c4ae09c22c4085876bb244244c611a": {
          "model_module": "@jupyter-widgets/controls",
          "model_name": "FloatProgressModel",
          "model_module_version": "1.5.0",
          "state": {
            "_dom_classes": [],
            "_model_module": "@jupyter-widgets/controls",
            "_model_module_version": "1.5.0",
            "_model_name": "FloatProgressModel",
            "_view_count": null,
            "_view_module": "@jupyter-widgets/controls",
            "_view_module_version": "1.5.0",
            "_view_name": "ProgressView",
            "bar_style": "success",
            "description": "",
            "description_tooltip": null,
            "layout": "IPY_MODEL_54f9c3b44f1848e3a4def7705109ebf0",
            "max": 3520083,
            "min": 0,
            "orientation": "horizontal",
            "style": "IPY_MODEL_f0cce7d820b1411784815fe39d808ffb",
            "value": 3520083
          }
        },
        "9e58d309d6f148fa9b07dda7f4a38861": {
          "model_module": "@jupyter-widgets/controls",
          "model_name": "HTMLModel",
          "model_module_version": "1.5.0",
          "state": {
            "_dom_classes": [],
            "_model_module": "@jupyter-widgets/controls",
            "_model_module_version": "1.5.0",
            "_model_name": "HTMLModel",
            "_view_count": null,
            "_view_module": "@jupyter-widgets/controls",
            "_view_module_version": "1.5.0",
            "_view_name": "HTMLView",
            "description": "",
            "description_tooltip": null,
            "layout": "IPY_MODEL_917c2bc31ad740ff9ecf670ab7b59ded",
            "placeholder": "​",
            "style": "IPY_MODEL_d9371429617a43cea094492d526a41da",
            "value": " 3.52M/3.52M [00:00&lt;00:00, 33.4MB/s]"
          }
        },
        "c62dc828fdc34370857676a3ecd14f44": {
          "model_module": "@jupyter-widgets/base",
          "model_name": "LayoutModel",
          "model_module_version": "1.2.0",
          "state": {
            "_model_module": "@jupyter-widgets/base",
            "_model_module_version": "1.2.0",
            "_model_name": "LayoutModel",
            "_view_count": null,
            "_view_module": "@jupyter-widgets/base",
            "_view_module_version": "1.2.0",
            "_view_name": "LayoutView",
            "align_content": null,
            "align_items": null,
            "align_self": null,
            "border": null,
            "bottom": null,
            "display": null,
            "flex": null,
            "flex_flow": null,
            "grid_area": null,
            "grid_auto_columns": null,
            "grid_auto_flow": null,
            "grid_auto_rows": null,
            "grid_column": null,
            "grid_gap": null,
            "grid_row": null,
            "grid_template_areas": null,
            "grid_template_columns": null,
            "grid_template_rows": null,
            "height": null,
            "justify_content": null,
            "justify_items": null,
            "left": null,
            "margin": null,
            "max_height": null,
            "max_width": null,
            "min_height": null,
            "min_width": null,
            "object_fit": null,
            "object_position": null,
            "order": null,
            "overflow": null,
            "overflow_x": null,
            "overflow_y": null,
            "padding": null,
            "right": null,
            "top": null,
            "visibility": null,
            "width": null
          }
        },
        "460cca874ff148f896f2b445327a2c24": {
          "model_module": "@jupyter-widgets/base",
          "model_name": "LayoutModel",
          "model_module_version": "1.2.0",
          "state": {
            "_model_module": "@jupyter-widgets/base",
            "_model_module_version": "1.2.0",
            "_model_name": "LayoutModel",
            "_view_count": null,
            "_view_module": "@jupyter-widgets/base",
            "_view_module_version": "1.2.0",
            "_view_name": "LayoutView",
            "align_content": null,
            "align_items": null,
            "align_self": null,
            "border": null,
            "bottom": null,
            "display": null,
            "flex": null,
            "flex_flow": null,
            "grid_area": null,
            "grid_auto_columns": null,
            "grid_auto_flow": null,
            "grid_auto_rows": null,
            "grid_column": null,
            "grid_gap": null,
            "grid_row": null,
            "grid_template_areas": null,
            "grid_template_columns": null,
            "grid_template_rows": null,
            "height": null,
            "justify_content": null,
            "justify_items": null,
            "left": null,
            "margin": null,
            "max_height": null,
            "max_width": null,
            "min_height": null,
            "min_width": null,
            "object_fit": null,
            "object_position": null,
            "order": null,
            "overflow": null,
            "overflow_x": null,
            "overflow_y": null,
            "padding": null,
            "right": null,
            "top": null,
            "visibility": null,
            "width": null
          }
        },
        "af2a597c83d049febdc2839638eca596": {
          "model_module": "@jupyter-widgets/controls",
          "model_name": "DescriptionStyleModel",
          "model_module_version": "1.5.0",
          "state": {
            "_model_module": "@jupyter-widgets/controls",
            "_model_module_version": "1.5.0",
            "_model_name": "DescriptionStyleModel",
            "_view_count": null,
            "_view_module": "@jupyter-widgets/base",
            "_view_module_version": "1.2.0",
            "_view_name": "StyleView",
            "description_width": ""
          }
        },
        "54f9c3b44f1848e3a4def7705109ebf0": {
          "model_module": "@jupyter-widgets/base",
          "model_name": "LayoutModel",
          "model_module_version": "1.2.0",
          "state": {
            "_model_module": "@jupyter-widgets/base",
            "_model_module_version": "1.2.0",
            "_model_name": "LayoutModel",
            "_view_count": null,
            "_view_module": "@jupyter-widgets/base",
            "_view_module_version": "1.2.0",
            "_view_name": "LayoutView",
            "align_content": null,
            "align_items": null,
            "align_self": null,
            "border": null,
            "bottom": null,
            "display": null,
            "flex": null,
            "flex_flow": null,
            "grid_area": null,
            "grid_auto_columns": null,
            "grid_auto_flow": null,
            "grid_auto_rows": null,
            "grid_column": null,
            "grid_gap": null,
            "grid_row": null,
            "grid_template_areas": null,
            "grid_template_columns": null,
            "grid_template_rows": null,
            "height": null,
            "justify_content": null,
            "justify_items": null,
            "left": null,
            "margin": null,
            "max_height": null,
            "max_width": null,
            "min_height": null,
            "min_width": null,
            "object_fit": null,
            "object_position": null,
            "order": null,
            "overflow": null,
            "overflow_x": null,
            "overflow_y": null,
            "padding": null,
            "right": null,
            "top": null,
            "visibility": null,
            "width": null
          }
        },
        "f0cce7d820b1411784815fe39d808ffb": {
          "model_module": "@jupyter-widgets/controls",
          "model_name": "ProgressStyleModel",
          "model_module_version": "1.5.0",
          "state": {
            "_model_module": "@jupyter-widgets/controls",
            "_model_module_version": "1.5.0",
            "_model_name": "ProgressStyleModel",
            "_view_count": null,
            "_view_module": "@jupyter-widgets/base",
            "_view_module_version": "1.2.0",
            "_view_name": "StyleView",
            "bar_color": null,
            "description_width": ""
          }
        },
        "917c2bc31ad740ff9ecf670ab7b59ded": {
          "model_module": "@jupyter-widgets/base",
          "model_name": "LayoutModel",
          "model_module_version": "1.2.0",
          "state": {
            "_model_module": "@jupyter-widgets/base",
            "_model_module_version": "1.2.0",
            "_model_name": "LayoutModel",
            "_view_count": null,
            "_view_module": "@jupyter-widgets/base",
            "_view_module_version": "1.2.0",
            "_view_name": "LayoutView",
            "align_content": null,
            "align_items": null,
            "align_self": null,
            "border": null,
            "bottom": null,
            "display": null,
            "flex": null,
            "flex_flow": null,
            "grid_area": null,
            "grid_auto_columns": null,
            "grid_auto_flow": null,
            "grid_auto_rows": null,
            "grid_column": null,
            "grid_gap": null,
            "grid_row": null,
            "grid_template_areas": null,
            "grid_template_columns": null,
            "grid_template_rows": null,
            "height": null,
            "justify_content": null,
            "justify_items": null,
            "left": null,
            "margin": null,
            "max_height": null,
            "max_width": null,
            "min_height": null,
            "min_width": null,
            "object_fit": null,
            "object_position": null,
            "order": null,
            "overflow": null,
            "overflow_x": null,
            "overflow_y": null,
            "padding": null,
            "right": null,
            "top": null,
            "visibility": null,
            "width": null
          }
        },
        "d9371429617a43cea094492d526a41da": {
          "model_module": "@jupyter-widgets/controls",
          "model_name": "DescriptionStyleModel",
          "model_module_version": "1.5.0",
          "state": {
            "_model_module": "@jupyter-widgets/controls",
            "_model_module_version": "1.5.0",
            "_model_name": "DescriptionStyleModel",
            "_view_count": null,
            "_view_module": "@jupyter-widgets/base",
            "_view_module_version": "1.2.0",
            "_view_name": "StyleView",
            "description_width": ""
          }
        }
      }
    }
  },
  "cells": [
    {
      "cell_type": "code",
      "source": [
        "! pip install fuzzywuzzy summa transformers sentencepiece nltk chardet\n"
      ],
      "metadata": {
        "id": "VTqut9ilpOo9",
        "colab": {
          "base_uri": "https://localhost:8080/"
        },
        "outputId": "ccdabe56-6267-42ae-ae6b-32d47459ae5e"
      },
      "execution_count": null,
      "outputs": [
        {
          "output_type": "stream",
          "name": "stdout",
          "text": [
            "Collecting fuzzywuzzy\n",
            "  Downloading fuzzywuzzy-0.18.0-py2.py3-none-any.whl (18 kB)\n",
            "Collecting summa\n",
            "  Downloading summa-1.2.0.tar.gz (54 kB)\n",
            "\u001b[2K     \u001b[90m━━━━━━━━━━━━━━━━━━━━━━━━━━━━━━━━━━━━━━━━\u001b[0m \u001b[32m54.9/54.9 kB\u001b[0m \u001b[31m1.1 MB/s\u001b[0m eta \u001b[36m0:00:00\u001b[0m\n",
            "\u001b[?25h  Preparing metadata (setup.py) ... \u001b[?25l\u001b[?25hdone\n",
            "Requirement already satisfied: transformers in /usr/local/lib/python3.10/dist-packages (4.37.2)\n",
            "Requirement already satisfied: sentencepiece in /usr/local/lib/python3.10/dist-packages (0.1.99)\n",
            "Requirement already satisfied: nltk in /usr/local/lib/python3.10/dist-packages (3.8.1)\n",
            "Requirement already satisfied: chardet in /usr/local/lib/python3.10/dist-packages (5.2.0)\n",
            "Requirement already satisfied: scipy>=0.19 in /usr/local/lib/python3.10/dist-packages (from summa) (1.11.4)\n",
            "Requirement already satisfied: filelock in /usr/local/lib/python3.10/dist-packages (from transformers) (3.13.1)\n",
            "Requirement already satisfied: huggingface-hub<1.0,>=0.19.3 in /usr/local/lib/python3.10/dist-packages (from transformers) (0.20.3)\n",
            "Requirement already satisfied: numpy>=1.17 in /usr/local/lib/python3.10/dist-packages (from transformers) (1.25.2)\n",
            "Requirement already satisfied: packaging>=20.0 in /usr/local/lib/python3.10/dist-packages (from transformers) (23.2)\n",
            "Requirement already satisfied: pyyaml>=5.1 in /usr/local/lib/python3.10/dist-packages (from transformers) (6.0.1)\n",
            "Requirement already satisfied: regex!=2019.12.17 in /usr/local/lib/python3.10/dist-packages (from transformers) (2023.12.25)\n",
            "Requirement already satisfied: requests in /usr/local/lib/python3.10/dist-packages (from transformers) (2.31.0)\n",
            "Requirement already satisfied: tokenizers<0.19,>=0.14 in /usr/local/lib/python3.10/dist-packages (from transformers) (0.15.2)\n",
            "Requirement already satisfied: safetensors>=0.4.1 in /usr/local/lib/python3.10/dist-packages (from transformers) (0.4.2)\n",
            "Requirement already satisfied: tqdm>=4.27 in /usr/local/lib/python3.10/dist-packages (from transformers) (4.66.2)\n",
            "Requirement already satisfied: click in /usr/local/lib/python3.10/dist-packages (from nltk) (8.1.7)\n",
            "Requirement already satisfied: joblib in /usr/local/lib/python3.10/dist-packages (from nltk) (1.3.2)\n",
            "Requirement already satisfied: fsspec>=2023.5.0 in /usr/local/lib/python3.10/dist-packages (from huggingface-hub<1.0,>=0.19.3->transformers) (2023.6.0)\n",
            "Requirement already satisfied: typing-extensions>=3.7.4.3 in /usr/local/lib/python3.10/dist-packages (from huggingface-hub<1.0,>=0.19.3->transformers) (4.9.0)\n",
            "Requirement already satisfied: charset-normalizer<4,>=2 in /usr/local/lib/python3.10/dist-packages (from requests->transformers) (3.3.2)\n",
            "Requirement already satisfied: idna<4,>=2.5 in /usr/local/lib/python3.10/dist-packages (from requests->transformers) (3.6)\n",
            "Requirement already satisfied: urllib3<3,>=1.21.1 in /usr/local/lib/python3.10/dist-packages (from requests->transformers) (2.0.7)\n",
            "Requirement already satisfied: certifi>=2017.4.17 in /usr/local/lib/python3.10/dist-packages (from requests->transformers) (2024.2.2)\n",
            "Building wheels for collected packages: summa\n",
            "  Building wheel for summa (setup.py) ... \u001b[?25l\u001b[?25hdone\n",
            "  Created wheel for summa: filename=summa-1.2.0-py3-none-any.whl size=54388 sha256=9e0740d5f3d46340c691733239b749ff33b6c63d77e70fb8e418885ca62ff166\n",
            "  Stored in directory: /root/.cache/pip/wheels/4a/ca/c5/4958614cfba88ed6ceb7cb5a849f9f89f9ac49971616bc919f\n",
            "Successfully built summa\n",
            "Installing collected packages: fuzzywuzzy, summa\n",
            "Successfully installed fuzzywuzzy-0.18.0 summa-1.2.0\n"
          ]
        }
      ]
    },
    {
      "cell_type": "code",
      "source": [
        "!pip install python-Levenshtein"
      ],
      "metadata": {
        "id": "50WNmDegpiGm",
        "colab": {
          "base_uri": "https://localhost:8080/"
        },
        "outputId": "cb2f8aa7-7be2-47e9-9a40-d035198a39e7"
      },
      "execution_count": null,
      "outputs": [
        {
          "output_type": "stream",
          "name": "stdout",
          "text": [
            "Collecting python-Levenshtein\n",
            "  Downloading python_Levenshtein-0.25.0-py3-none-any.whl (9.4 kB)\n",
            "Collecting Levenshtein==0.25.0 (from python-Levenshtein)\n",
            "  Downloading Levenshtein-0.25.0-cp310-cp310-manylinux_2_17_x86_64.manylinux2014_x86_64.whl (177 kB)\n",
            "\u001b[2K     \u001b[90m━━━━━━━━━━━━━━━━━━━━━━━━━━━━━━━━━━━━━━━━\u001b[0m \u001b[32m177.4/177.4 kB\u001b[0m \u001b[31m2.1 MB/s\u001b[0m eta \u001b[36m0:00:00\u001b[0m\n",
            "\u001b[?25hCollecting rapidfuzz<4.0.0,>=3.1.0 (from Levenshtein==0.25.0->python-Levenshtein)\n",
            "  Downloading rapidfuzz-3.6.1-cp310-cp310-manylinux_2_17_x86_64.manylinux2014_x86_64.whl (3.4 MB)\n",
            "\u001b[2K     \u001b[90m━━━━━━━━━━━━━━━━━━━━━━━━━━━━━━━━━━━━━━━━\u001b[0m \u001b[32m3.4/3.4 MB\u001b[0m \u001b[31m22.9 MB/s\u001b[0m eta \u001b[36m0:00:00\u001b[0m\n",
            "\u001b[?25hInstalling collected packages: rapidfuzz, Levenshtein, python-Levenshtein\n",
            "Successfully installed Levenshtein-0.25.0 python-Levenshtein-0.25.0 rapidfuzz-3.6.1\n"
          ]
        }
      ]
    },
    {
      "cell_type": "code",
      "source": [
        "from google.colab import drive\n",
        "\n",
        "drive.mount(\"/content/drive\")"
      ],
      "metadata": {
        "id": "MmnEf3Zzqu3O",
        "colab": {
          "base_uri": "https://localhost:8080/"
        },
        "outputId": "9a8faf2f-8d2b-4a64-cc85-53e0fb429fb8"
      },
      "execution_count": null,
      "outputs": [
        {
          "output_type": "stream",
          "name": "stdout",
          "text": [
            "Mounted at /content/drive\n"
          ]
        }
      ]
    },
    {
      "cell_type": "code",
      "source": [
        "base_dir = \"/content/drive/MyDrive\""
      ],
      "metadata": {
        "id": "5O36AcJNq-VG"
      },
      "execution_count": null,
      "outputs": []
    },
    {
      "cell_type": "code",
      "source": [
        "!unzip \"/content/drive/MyDrive/model_checkpoints-20231210T172508Z-001.zip\" -d \"/content/drive/MyDrive\""
      ],
      "metadata": {
        "id": "80cwK0-kdJNE",
        "colab": {
          "base_uri": "https://localhost:8080/"
        },
        "outputId": "9298fc58-06ac-4b91-f1d9-2226fcca32fb"
      },
      "execution_count": null,
      "outputs": [
        {
          "output_type": "stream",
          "name": "stdout",
          "text": [
            "Archive:  /content/drive/MyDrive/model_checkpoints-20231210T172508Z-001.zip\n",
            "   creating: /content/drive/MyDrive/model_checkpoints/.ipynb_checkpoints/\n",
            "  inflating: /content/drive/MyDrive/model_checkpoints/checkpoint_50.pt  \n"
          ]
        }
      ]
    },
    {
      "cell_type": "code",
      "execution_count": null,
      "metadata": {
        "id": "VBdC8JIxdjWg"
      },
      "outputs": [],
      "source": [
        "import os\n",
        "import torch\n",
        "import torch.nn as nn\n",
        "from torch.utils.data import DataLoader, TensorDataset\n",
        "from fuzzywuzzy import fuzz\n",
        "from fuzzywuzzy import process\n",
        "# from summa.summarizer import summarize\n",
        "import torch\n",
        "from transformers import AutoTokenizer, AutoModel\n",
        "import transformers\n",
        "from nltk.tokenize import sent_tokenize\n",
        "import json\n",
        "import pickle as pkl\n",
        "import os\n",
        "import pandas as pd\n",
        "import chardet"
      ]
    },
    {
      "cell_type": "code",
      "source": [
        "device = torch.device('cuda' if torch.cuda.is_available() else 'cpu')"
      ],
      "metadata": {
        "id": "RG4ICRspGKrG"
      },
      "execution_count": null,
      "outputs": []
    },
    {
      "cell_type": "markdown",
      "source": [
        "# Creating Paper and Review Embeddings"
      ],
      "metadata": {
        "id": "Ah-tygNZfJk1"
      }
    },
    {
      "cell_type": "code",
      "source": [
        "tokenizer = AutoTokenizer.from_pretrained(\"allenai/scibert_scivocab_uncased\")\n",
        "model = AutoModel.from_pretrained(\"allenai/scibert_scivocab_uncased\").to(device)"
      ],
      "metadata": {
        "id": "L2h2xBORpLNf",
        "colab": {
          "base_uri": "https://localhost:8080/",
          "height": 272,
          "referenced_widgets": [
            "a601598788fa4ee3a1ba439adcc07389",
            "3a2600ca45af4fb8b854306c54cdd876",
            "b77a2011dd5d47c783bbcbe0abc643a3",
            "806daf52f3f2443d9c288a04a095fbc5",
            "158192bbe5194e54b0c8d14dd3890bee",
            "ee0ddef4fd524798b7ac5dfbfe18be30",
            "cf1c33968e2a4dc092d648f0ceb12878",
            "601d2b1dfe57425c8dcccf4762ec932e",
            "35a9a0ce8eaa470e81437b60d4afaf93",
            "07353728d96c44638e51bd31cbbcf0b1",
            "346813f8c2ec440493dd6e82c207e9cd",
            "7da89eb6c89d4a3ab892230183e510e7",
            "80a3caf9c8144b9eb226184f3791e9eb",
            "b738d554b50b4152b3763554e3300e82",
            "64284fba43584c4ba8656310300a6752",
            "a0e5fa1b0d434c3ea6248745cb9291bd",
            "20e4a2e8450d4574a9a46dff29bcccf3",
            "b6369ad6fd134dd3a31e894aeea02f8e",
            "6034db40bdf248ff957bdfffdab6d132",
            "2688de380e3c42888e3d5f9ae8fcf3f0",
            "1f1d312577434f24b248adb39ea5aeb2",
            "d55abe2902634614adc465dde1f79bc4",
            "26e73a87ab1d45568ce03b45421fb4fd",
            "f33f9668bab54fba96a0b70fd797ed72",
            "f55b7b3e6f924d5bb3c7e30fa00fe8b2",
            "fb7952cb6f4a4271908934c2771da399",
            "6a179b7e6a2a41bf83040201a60c7add",
            "93c813cc25f44007b872e73ff7a5fdc4",
            "dc412b8555554a9e8de6f97da1756dfa",
            "917aae02f23d4901bb2a9071609eef20",
            "b404c5a9420c4ea1a14b4980ffb24deb",
            "73cfeb487fa945c7a2a6a5956f3fea10",
            "2471de6e8d27440bb850d9699d0b6558"
          ]
        },
        "outputId": "b8cd5fe8-db93-43b2-acc1-303f33f86f9b"
      },
      "execution_count": null,
      "outputs": [
        {
          "output_type": "stream",
          "name": "stderr",
          "text": [
            "/usr/local/lib/python3.10/dist-packages/huggingface_hub/utils/_token.py:88: UserWarning: \n",
            "The secret `HF_TOKEN` does not exist in your Colab secrets.\n",
            "To authenticate with the Hugging Face Hub, create a token in your settings tab (https://huggingface.co/settings/tokens), set it as secret in your Google Colab and restart your session.\n",
            "You will be able to reuse this secret in all of your notebooks.\n",
            "Please note that authentication is recommended but still optional to access public models or datasets.\n",
            "  warnings.warn(\n"
          ]
        },
        {
          "output_type": "display_data",
          "data": {
            "text/plain": [
              "config.json:   0%|          | 0.00/385 [00:00<?, ?B/s]"
            ],
            "application/vnd.jupyter.widget-view+json": {
              "version_major": 2,
              "version_minor": 0,
              "model_id": "a601598788fa4ee3a1ba439adcc07389"
            }
          },
          "metadata": {}
        },
        {
          "output_type": "display_data",
          "data": {
            "text/plain": [
              "vocab.txt:   0%|          | 0.00/228k [00:00<?, ?B/s]"
            ],
            "application/vnd.jupyter.widget-view+json": {
              "version_major": 2,
              "version_minor": 0,
              "model_id": "7da89eb6c89d4a3ab892230183e510e7"
            }
          },
          "metadata": {}
        },
        {
          "output_type": "display_data",
          "data": {
            "text/plain": [
              "pytorch_model.bin:   0%|          | 0.00/442M [00:00<?, ?B/s]"
            ],
            "application/vnd.jupyter.widget-view+json": {
              "version_major": 2,
              "version_minor": 0,
              "model_id": "26e73a87ab1d45568ce03b45421fb4fd"
            }
          },
          "metadata": {}
        },
        {
          "output_type": "stream",
          "name": "stderr",
          "text": [
            "/usr/local/lib/python3.10/dist-packages/torch/_utils.py:831: UserWarning: TypedStorage is deprecated. It will be removed in the future and UntypedStorage will be the only storage class. This should only matter to you if you are using storages directly.  To access UntypedStorage directly, use tensor.untyped_storage() instead of tensor.storage()\n",
            "  return self.fget.__get__(instance, owner)()\n"
          ]
        }
      ]
    },
    {
      "cell_type": "code",
      "source": [
        "model1 = transformers.PegasusForConditionalGeneration.from_pretrained(\"google/pegasus-xsum\").to(device)\n",
        "tokenizer1 = transformers.PegasusTokenizer.from_pretrained(\"google/pegasus-xsum\")"
      ],
      "metadata": {
        "id": "6x7AKGMb8zdL",
        "colab": {
          "base_uri": "https://localhost:8080/",
          "height": 296,
          "referenced_widgets": [
            "cabdf19bf19d4b7899cbab377108ba3a",
            "bd38c66863154b9abc656653fcd41462",
            "ac11c90df8354d1a9c367dab4de6c378",
            "c540160274644784b55320f5340072ec",
            "4dfd8e7c86ee4702875d5b387e7ef349",
            "4d768b35ca1b4657906b6c05f9403b7c",
            "68b31f963df64c87901761db20ab21c9",
            "28f7e6a27151480a99fc146223ff483f",
            "882ae0099d8a4cfdbb113402723e5ac3",
            "1a44bf62fb994d7998e7e2dbec3438f2",
            "b15076dc74b049f2b934febf4b2bdb31",
            "60d3e56428734fe88a9a918da148ac53",
            "0138935a4bd14a6ba85196812538caaf",
            "188923e4c3dd4ae8a36c5d3cd8957ba7",
            "5c9a35ff36604fd8a0e8a55603f7212c",
            "9509ab14454e4e96baa93d0326fb3ee3",
            "d1dbe90e012a44a996fa6bcc1990e474",
            "ab205ea5b9494a05b229d6787d0b0f3d",
            "9f1a0f4814d34d9ca040ecaeee3bd5fb",
            "c830634d1c714e9486018a0ad701e888",
            "6b07fa6f239c48f6835ae922134fc7dc",
            "4a475e0c606a4d109aa0f0ff1c6fc228",
            "01450764a015434da3f7166ad52d1f61",
            "1bca9888b35f40daa2f99b57c5566846",
            "657d8fbcf39e41a89b8f1d3ab154dcc7",
            "ddac7dc0dbeb41a48708beaf086af1d0",
            "c4d64c21ec414167b6c2447be651d28d",
            "5b2942d00b7b4f3a9637cf439a2e0450",
            "dc5fb6884f744e41a100142481736f65",
            "2e588fc7153a47a59b85ac2773e3c255",
            "519b2535df56465788f2b5a63107f343",
            "c61298d4df194dc79fe61051ca83a703",
            "9251336996f64774b6e9aeed8c44d6ad",
            "dab33f29e8e749d5a3a43d8232810317",
            "eb0be11a51d54889932d83f3ea108dcc",
            "f1975e643fa54524a9fff9ea8677e64e",
            "3238fd4ac8b94bcca57aa214f01bb13e",
            "893834fef85a43548e161dfa2b358364",
            "e896c4e0dd1c4bf1ae9ff14df1ab8d7a",
            "98ad9de47bb347e18a4a1c3090f86752",
            "05218035f9dc4e5c8c83b73ccaf9c44a",
            "088915020d794464ab379fbaa98eb28e",
            "9bed71c567ac41fca9ceebce27e6fcd9",
            "4f999ae0aab84402ad49bc9e0e2ec0aa",
            "34e25025b2d54417bbf5d4fc138c1106",
            "2318c39cb1b54c039eef02794f58fbb8",
            "363b3fb4fbbe47b79639e8c9a01815ee",
            "8fe6a448dbfd4217afca7d39a842acee",
            "29312f6d1dac4bb1a2afdc45e4844e10",
            "ad2d9c57a6454673bd88803abd606027",
            "5970d146acaa427aa96dc175aab57208",
            "509c54bf9d134274a146f9dfdc700a87",
            "e86abd845094425fb87afe5eebb802ec",
            "a477f392ab0247359d3d9673de529b7c",
            "16e57af89e164d268115e40318dacb4e",
            "5b578ade2d644c5180cce4ebd91f4049",
            "41142e7e71bb405286ba00e477b5227d",
            "7c25a2b9d6af4afd8c74b3338d1abde5",
            "71f356e09a78424c8d3ab2fdc9ac835f",
            "29b50811a34b4e658b90d64f4ab439a5",
            "0b35208abb174a03835a7ef1397715f6",
            "4de34ec1765d474c963eafe91dd9940a",
            "07d6d40ffee34c3c9047037492650393",
            "de31fe4973544b6f8caafff04877826e",
            "449ed34731b948698c058cdb6d48095d",
            "8495d1cb44184e4890cca0469a42ef3f",
            "5ea36e1373624af29433297b0a76f4d6",
            "a257b47027aa4c41a0830a7c60d4759e",
            "c9c4ae09c22c4085876bb244244c611a",
            "9e58d309d6f148fa9b07dda7f4a38861",
            "c62dc828fdc34370857676a3ecd14f44",
            "460cca874ff148f896f2b445327a2c24",
            "af2a597c83d049febdc2839638eca596",
            "54f9c3b44f1848e3a4def7705109ebf0",
            "f0cce7d820b1411784815fe39d808ffb",
            "917c2bc31ad740ff9ecf670ab7b59ded",
            "d9371429617a43cea094492d526a41da"
          ]
        },
        "outputId": "74c68139-7443-495a-8c0f-1498839e5620"
      },
      "execution_count": null,
      "outputs": [
        {
          "output_type": "display_data",
          "data": {
            "text/plain": [
              "config.json:   0%|          | 0.00/1.39k [00:00<?, ?B/s]"
            ],
            "application/vnd.jupyter.widget-view+json": {
              "version_major": 2,
              "version_minor": 0,
              "model_id": "cabdf19bf19d4b7899cbab377108ba3a"
            }
          },
          "metadata": {}
        },
        {
          "output_type": "display_data",
          "data": {
            "text/plain": [
              "pytorch_model.bin:   0%|          | 0.00/2.28G [00:00<?, ?B/s]"
            ],
            "application/vnd.jupyter.widget-view+json": {
              "version_major": 2,
              "version_minor": 0,
              "model_id": "60d3e56428734fe88a9a918da148ac53"
            }
          },
          "metadata": {}
        },
        {
          "output_type": "stream",
          "name": "stderr",
          "text": [
            "Some weights of PegasusForConditionalGeneration were not initialized from the model checkpoint at google/pegasus-xsum and are newly initialized: ['model.decoder.embed_positions.weight', 'model.encoder.embed_positions.weight']\n",
            "You should probably TRAIN this model on a down-stream task to be able to use it for predictions and inference.\n"
          ]
        },
        {
          "output_type": "display_data",
          "data": {
            "text/plain": [
              "generation_config.json:   0%|          | 0.00/259 [00:00<?, ?B/s]"
            ],
            "application/vnd.jupyter.widget-view+json": {
              "version_major": 2,
              "version_minor": 0,
              "model_id": "01450764a015434da3f7166ad52d1f61"
            }
          },
          "metadata": {}
        },
        {
          "output_type": "display_data",
          "data": {
            "text/plain": [
              "tokenizer_config.json:   0%|          | 0.00/87.0 [00:00<?, ?B/s]"
            ],
            "application/vnd.jupyter.widget-view+json": {
              "version_major": 2,
              "version_minor": 0,
              "model_id": "dab33f29e8e749d5a3a43d8232810317"
            }
          },
          "metadata": {}
        },
        {
          "output_type": "display_data",
          "data": {
            "text/plain": [
              "spiece.model:   0%|          | 0.00/1.91M [00:00<?, ?B/s]"
            ],
            "application/vnd.jupyter.widget-view+json": {
              "version_major": 2,
              "version_minor": 0,
              "model_id": "34e25025b2d54417bbf5d4fc138c1106"
            }
          },
          "metadata": {}
        },
        {
          "output_type": "display_data",
          "data": {
            "text/plain": [
              "special_tokens_map.json:   0%|          | 0.00/65.0 [00:00<?, ?B/s]"
            ],
            "application/vnd.jupyter.widget-view+json": {
              "version_major": 2,
              "version_minor": 0,
              "model_id": "5b578ade2d644c5180cce4ebd91f4049"
            }
          },
          "metadata": {}
        },
        {
          "output_type": "display_data",
          "data": {
            "text/plain": [
              "tokenizer.json:   0%|          | 0.00/3.52M [00:00<?, ?B/s]"
            ],
            "application/vnd.jupyter.widget-view+json": {
              "version_major": 2,
              "version_minor": 0,
              "model_id": "5ea36e1373624af29433297b0a76f4d6"
            }
          },
          "metadata": {}
        }
      ]
    },
    {
      "cell_type": "code",
      "source": [
        "def get_encoding(file):\n",
        "    with open(file, 'rb') as f:\n",
        "        result = chardet.detect(f.read())\n",
        "        # print(result[\"encoding\"])\n",
        "    return result['encoding']\n",
        "\n",
        "def read_json(file_path):\n",
        "    with open(file_path, 'rb') as file:\n",
        "        data = file.read().decode('utf-8-sig')\n",
        "        data = json.loads(data)\n",
        "    return data"
      ],
      "metadata": {
        "id": "NnYCMaO6poQP"
      },
      "execution_count": null,
      "outputs": []
    },
    {
      "cell_type": "code",
      "source": [
        "def summarize(txt):\n",
        "    chunk_size = 300\n",
        "    input_chunks = [txt[i:i + chunk_size] for i in range(0, len(txt), chunk_size)]\n",
        "    summaries = []\n",
        "    for chunk in input_chunks:\n",
        "        input_ids = tokenizer1.encode(chunk, return_tensors=\"pt\", max_length=1024, truncation=True).to(device)\n",
        "        summary_ids = model1.generate(input_ids, max_length=30, min_length=20, length_penalty=2.0, num_beams=4, early_stopping=True)\n",
        "        summary_text = tokenizer1.decode(summary_ids[0], skip_special_tokens=True)\n",
        "        summaries.append(summary_text)\n",
        "    final_summary = \" \".join(summaries)\n",
        "    return final_summary"
      ],
      "metadata": {
        "id": "PjJ0Gvdh8u5j"
      },
      "execution_count": null,
      "outputs": []
    },
    {
      "cell_type": "code",
      "source": [
        "def paper_tokenization(paper_path):\n",
        "    json_data = read_json(paper_path)\n",
        "    # l=json_data['metadata']['sections']\n",
        "    if 'sections' not in json_data:\n",
        "        return None\n",
        "    l = json_data['sections']\n",
        "    sections=['abstract', 'introduction', 'related works', 'problem definition', 'idea', 'methodology', 'experiments', 'results', 'tables & figures', 'analysis', 'future work', 'overall', 'bibliography', 'external']\n",
        "    d={}\n",
        "    count_no_head = 0\n",
        "    summary = ''\n",
        "    for section in l:\n",
        "        txt = section['text']\n",
        "        summary_txt=txt\n",
        "        while len(summary_txt.split())>200:\n",
        "            summary_txt = summarize(summary_txt)\n",
        "        summary += summary_txt\n",
        "\n",
        "    final_summary = summary\n",
        "    while len(final_summary.split())>250:\n",
        "        final_summary=summarize(final_summary)\n",
        "    print(len(final_summary))\n",
        "    tokens = tokenizer.tokenize(final_summary)\n",
        "    token_ids = tokenizer.convert_tokens_to_ids(tokens)\n",
        "    input_ids = tokenizer.encode(final_summary, max_length=512, add_special_tokens=True, truncation=True, padding='max_length')\n",
        "    input_ids = torch.tensor(input_ids).to(device)\n",
        "    attention_mask = (input_ids != tokenizer.pad_token_id).long()\n",
        "    input_ids = input_ids.unsqueeze(0)\n",
        "    print(input_ids.shape)\n",
        "    attention_mask = attention_mask.unsqueeze(0)\n",
        "    outputs = model(input_ids, attention_mask=attention_mask)\n",
        "    sentence_embeddings = outputs[0].squeeze()\n",
        "    # d[k]=sentence_embeddings\n",
        "    print(f\"Paper embedding shape: {sentence_embeddings.shape}\")\n",
        "    # del sentence_embeddings\n",
        "    del outputs\n",
        "    del input_ids\n",
        "    del token_ids\n",
        "    del tokens\n",
        "    del l\n",
        "    del json_data\n",
        "    return sentence_embeddings"
      ],
      "metadata": {
        "id": "lZSBPJASprui"
      },
      "execution_count": null,
      "outputs": []
    },
    {
      "cell_type": "code",
      "source": [
        "def review_tokenizer(review_path):\n",
        "    with open(review_path, \"r\", encoding=get_encoding(review_path)) as file:\n",
        "        content = file.read()\n",
        "\n",
        "    tokens = tokenizer.tokenize(content)\n",
        "    token_ids = tokenizer.convert_tokens_to_ids(tokens)\n",
        "    input_ids = tokenizer.encode(content, add_special_tokens=True, max_length=512, truncation=True, padding='max_length')\n",
        "    # Create the attention mask\n",
        "    input_ids = torch.tensor(input_ids).to(device)\n",
        "    attention_mask = (input_ids != tokenizer.pad_token_id).long()\n",
        "    # input_ids, attention_mask = tokenizer.pad(input_ids, padding='max_length', max_length=512, return_tensors='pt', return_attention_mask=True)\n",
        "    input_ids = input_ids.unsqueeze(0)\n",
        "    attention_mask = attention_mask.unsqueeze(0)\n",
        "    outputs = model(input_ids, attention_mask=attention_mask)\n",
        "    sentence_embeddings = outputs[0].squeeze()\n",
        "    print(f\"Review embedding shape: {sentence_embeddings.shape}\")\n",
        "    del outputs\n",
        "    del input_ids\n",
        "    del token_ids\n",
        "    del tokens\n",
        "    del content\n",
        "    del file\n",
        "    return sentence_embeddings"
      ],
      "metadata": {
        "id": "oXK7H1BfqQS4"
      },
      "execution_count": null,
      "outputs": []
    },
    {
      "cell_type": "code",
      "source": [
        "final_papers = {\n",
        "   'paper_name': [],\n",
        "   'tokenized_paper': [],\n",
        "   'tokenized_reviews': []\n",
        "}\n",
        "# with open(os.path.join(base_dir, 'embeddings_ICLR_2018_quality_test_v1.pkl'), 'rb') as fr:\n",
        "#    final_papers = pkl.load(fr)\n",
        "\n",
        "print(\"Completed paper names:\")\n",
        "print(final_papers['paper_name'])\n",
        "\n",
        "# init_path='Complete_Dataset'\n",
        "# init_path = ''\n",
        "# years = os.listdir(init_path)\n",
        "years = [\"ICLR_2018\"]\n",
        "# Change batch size as per your laptop's capacity\n",
        "batch_size = 5\n",
        "# This n is for self, to remember which iteration is going on, how many more are remaining, etc. Not used in code explicitly\n",
        "n = 0\n",
        "#n=? is over\n",
        "\n",
        "df = pd.read_csv(os.path.join(base_dir, \"data_latest_final2.csv\"))\n",
        "\n",
        "for year in years:\n",
        "    path2 = os.path.join(base_dir, year)\n",
        "    acceptance_list = os.listdir(path2)\n",
        "    # for cat in acceptance_list:\n",
        "    # Change this list when required\n",
        "    for cat in [\"Poster_Papers\"]:\n",
        "    # for cat in [\"Rejected_Papers\"]:\n",
        "        path3 = os.path.join(path2, cat)\n",
        "        papers = os.listdir(path3)\n",
        "        papers.sort()\n",
        "        # You will have to change indices here, based on number of papers in a folder.\n",
        "        batch_papers = papers[batch_size * n : batch_size * n + batch_size]\n",
        "        print(f\"Current ID range {batch_size * n} to {batch_size * n + batch_size - 1}\")\n",
        "        # For last batch, you can use the following commented line and put appropriate indices\n",
        "        # batch_papers = papers[495:496]\n",
        "        for paper in batch_papers:\n",
        "            print(f\"\\nCurrent Paper: {paper}\")\n",
        "            path4 = os.path.join(path3, paper)\n",
        "            docs = os.listdir(path4)\n",
        "            reviews = []\n",
        "            count_pdf = len([x for x in docs if x[-4:] == '.pdf'])\n",
        "            # Here, the metadata (Science Parse) file is used (I had named it {some text here}_new_metadata.json)\n",
        "            count_json = len([x for x in docs if x[-17:] == 'new_metadata.json'])\n",
        "            review_original_old = [f\"{year}_{cat}_{paper}_({x})\" for x in docs if x[-4:] == '.txt' and not x.__contains__(\"MetaReview\")]\n",
        "            review_original = []\n",
        "            for name in review_original_old:\n",
        "                name_tmp = name\n",
        "                row = df[df[\"paper_name\"].str.contains(name_tmp.split('(')[1][:-5])]\n",
        "                if not row.empty:\n",
        "                    review_original.append(name)\n",
        "            count_txt = len(review_original)\n",
        "            if count_json != 0 and count_txt != 0:\n",
        "                for doc in docs:\n",
        "                    if doc[-17:] == 'new_metadata.json':\n",
        "                        tokenized_paper = paper_tokenization(os.path.join(path4, doc))\n",
        "                    # if doc[-4:] == '.txt':\n",
        "                        # tokenized_review = review_tokenizer(path4 + '/' + doc)\n",
        "                        # reviews.append(tokenized_review)\n",
        "                for review in review_original:\n",
        "                  #  tokenized_review = review_tokenizer(path4 + '/' + review.split('(')[1][:-1])\n",
        "                   print(f\"Current review: {review}\")\n",
        "                   tokenized_review = review_tokenizer(os.path.join(path4, review.split('(')[1][:-1]))\n",
        "                   reviews.append(tokenized_review)\n",
        "                if tokenized_paper != None:\n",
        "                  final_papers['paper_name'].append(f\"{year}_{cat}_{paper}\")\n",
        "                  # final_papers['review_names'].append(review_original)\n",
        "                  final_papers['tokenized_paper'].append(tokenized_paper)\n",
        "                  # reviews = torch.stack(reviews)\n",
        "                  # final_papers['tokenized_reviews'].append(reviews)\n",
        "                  final_papers['tokenized_reviews'].append([(x, y) for x, y in zip(review_original, reviews)])\n",
        "                  print(f\"Completed {paper}\")\n",
        "                else:\n",
        "                  print(f\"Not Completed {paper}\")\n",
        "                del tokenized_paper\n",
        "                del tokenized_review\n",
        "            else:\n",
        "               print(f\"{paper} not available in csv\")\n",
        "            del review_original\n",
        "            del docs\n",
        "            del reviews\n",
        "        del batch_papers\n",
        "        del papers\n",
        "    print(year)\n",
        "\n",
        "with open(os.path.join(base_dir, 'Lexical Model', 'embeddings_ICLR_2018_quality_test.pkl'), 'wb') as f:\n",
        "    pkl.dump(final_papers, f)"
      ],
      "metadata": {
        "id": "iy-8EYqyqffO",
        "colab": {
          "base_uri": "https://localhost:8080/"
        },
        "outputId": "731abe51-aec2-49fa-b6f7-f937aa4d353a"
      },
      "execution_count": null,
      "outputs": [
        {
          "output_type": "stream",
          "name": "stdout",
          "text": [
            "Completed paper names:\n",
            "[]\n",
            "Current ID range 0 to 4\n",
            "\n",
            "Current Paper: B12Js_yRb\n",
            "1130\n",
            "torch.Size([1, 512])\n",
            "Paper embedding shape: torch.Size([512, 768])\n",
            "Current review: ICLR_2018_Poster_Papers_B12Js_yRb_(ICLR2018-B12Js_yRb-R2.txt)\n",
            "Review embedding shape: torch.Size([512, 768])\n",
            "Current review: ICLR_2018_Poster_Papers_B12Js_yRb_(ICLR2018-B12Js_yRb-R3.txt)\n",
            "Review embedding shape: torch.Size([512, 768])\n",
            "Current review: ICLR_2018_Poster_Papers_B12Js_yRb_(ICLR2018-B12Js_yRb-R1.txt)\n",
            "Review embedding shape: torch.Size([512, 768])\n",
            "Completed B12Js_yRb\n",
            "\n",
            "Current Paper: B13njo1R-\n",
            "1357\n",
            "torch.Size([1, 512])\n",
            "Paper embedding shape: torch.Size([512, 768])\n",
            "Current review: ICLR_2018_Poster_Papers_B13njo1R-_(ICLR2018-B13njo1R--R2.txt)\n",
            "Review embedding shape: torch.Size([512, 768])\n",
            "Current review: ICLR_2018_Poster_Papers_B13njo1R-_(ICLR2018-B13njo1R--R1.txt)\n",
            "Review embedding shape: torch.Size([512, 768])\n",
            "Current review: ICLR_2018_Poster_Papers_B13njo1R-_(ICLR2018-B13njo1R--R3.txt)\n",
            "Review embedding shape: torch.Size([512, 768])\n",
            "Completed B13njo1R-\n",
            "\n",
            "Current Paper: B14TlG-RW\n",
            "831\n",
            "torch.Size([1, 512])\n",
            "Paper embedding shape: torch.Size([512, 768])\n",
            "Current review: ICLR_2018_Poster_Papers_B14TlG-RW_(ICLR2018-B14TlG-RW-R3.txt)\n",
            "Review embedding shape: torch.Size([512, 768])\n",
            "Current review: ICLR_2018_Poster_Papers_B14TlG-RW_(ICLR2018-B14TlG-RW-R2.txt)\n",
            "Review embedding shape: torch.Size([512, 768])\n",
            "Current review: ICLR_2018_Poster_Papers_B14TlG-RW_(ICLR2018-B14TlG-RW-R1.txt)\n",
            "Review embedding shape: torch.Size([512, 768])\n",
            "Completed B14TlG-RW\n",
            "\n",
            "Current Paper: B17JTOe0-\n",
            "997\n",
            "torch.Size([1, 512])\n",
            "Paper embedding shape: torch.Size([512, 768])\n",
            "Current review: ICLR_2018_Poster_Papers_B17JTOe0-_(ICLR2018-B17JTOe0--R2.txt)\n",
            "Review embedding shape: torch.Size([512, 768])\n",
            "Current review: ICLR_2018_Poster_Papers_B17JTOe0-_(ICLR2018-B17JTOe0--R3.txt)\n",
            "Review embedding shape: torch.Size([512, 768])\n",
            "Current review: ICLR_2018_Poster_Papers_B17JTOe0-_(ICLR2018-B17JTOe0--R1.txt)\n",
            "Review embedding shape: torch.Size([512, 768])\n",
            "Completed B17JTOe0-\n",
            "\n",
            "Current Paper: B18WgG-CZ\n",
            "B18WgG-CZ not available in csv\n",
            "ICLR_2018\n"
          ]
        }
      ]
    },
    {
      "cell_type": "markdown",
      "source": [
        "# Creating Paper Attended Review Representations"
      ],
      "metadata": {
        "id": "7JwlmStIfNxg"
      }
    },
    {
      "cell_type": "code",
      "source": [
        "with open(os.path.join(base_dir, 'Lexical Model', 'embeddings_ICLR_2018_quality_test.pkl'), 'rb') as f:\n",
        "    final_papers = pkl.load(f)"
      ],
      "metadata": {
        "id": "3FMObwqjSbWo"
      },
      "execution_count": null,
      "outputs": []
    },
    {
      "cell_type": "code",
      "execution_count": null,
      "metadata": {
        "id": "Dk1ukyDdjd1S"
      },
      "outputs": [],
      "source": [
        "class Attention(nn.Module):\n",
        "    def __init__(self, embed_dim, num_heads=1):\n",
        "        super().__init__()\n",
        "        self.attention_layer = nn.MultiheadAttention(embed_dim=embed_dim, num_heads=num_heads)\n",
        "        self.attention_weights = None\n",
        "\n",
        "    def forward(self, paper_embeddings, review_embeddings):\n",
        "        attended_review_representations, self.attention_weights = self.attention_layer(paper_embeddings, review_embeddings, review_embeddings)\n",
        "        return attended_review_representations"
      ]
    },
    {
      "cell_type": "code",
      "execution_count": null,
      "metadata": {
        "id": "jE2Iz4Fwjd1S",
        "colab": {
          "base_uri": "https://localhost:8080/"
        },
        "outputId": "d117cce6-ffe5-4b21-f14c-8f1bc377afb0"
      },
      "outputs": [
        {
          "output_type": "stream",
          "name": "stdout",
          "text": [
            "Paper: torch.Size([1, 512, 768])\n",
            "torch.Size([1, 512, 768])\n",
            "ICLR2018-B12Js_yRb-R2 ICLR2018-B12Js_yRb-R2.txt)\n",
            "torch.Size([1, 512, 768])\n",
            "ICLR2018-B12Js_yRb-R3 ICLR2018-B12Js_yRb-R3.txt)\n",
            "torch.Size([1, 512, 768])\n",
            "ICLR2018-B12Js_yRb-R1 ICLR2018-B12Js_yRb-R1.txt)\n",
            "Paper: torch.Size([1, 512, 768])\n",
            "torch.Size([1, 512, 768])\n",
            "ICLR2018-B13njo1R--R2 ICLR2018-B13njo1R--R2.txt)\n",
            "torch.Size([1, 512, 768])\n",
            "ICLR2018-B13njo1R--R1 ICLR2018-B13njo1R--R1.txt)\n",
            "torch.Size([1, 512, 768])\n",
            "ICLR2018-B13njo1R--R3 ICLR2018-B13njo1R--R3.txt)\n",
            "Paper: torch.Size([1, 512, 768])\n",
            "torch.Size([1, 512, 768])\n",
            "ICLR2018-B14TlG-RW-R3 ICLR2018-B14TlG-RW-R3.txt)\n",
            "torch.Size([1, 512, 768])\n",
            "ICLR2018-B14TlG-RW-R2 ICLR2018-B14TlG-RW-R2.txt)\n",
            "torch.Size([1, 512, 768])\n",
            "ICLR2018-B14TlG-RW-R1 ICLR2018-B14TlG-RW-R1.txt)\n",
            "Paper: torch.Size([1, 512, 768])\n",
            "torch.Size([1, 512, 768])\n",
            "ICLR2018-B17JTOe0--R2 ICLR2018-B17JTOe0--R2.txt)\n",
            "torch.Size([1, 512, 768])\n",
            "ICLR2018-B17JTOe0--R3 ICLR2018-B17JTOe0--R3.txt)\n",
            "torch.Size([1, 512, 768])\n",
            "ICLR2018-B17JTOe0--R1 ICLR2018-B17JTOe0--R1.txt)\n"
          ]
        }
      ],
      "source": [
        "# Example usage\n",
        "attention = Attention(embed_dim=768)\n",
        "attention = attention.to(device)\n",
        "\n",
        "# Create input tensors from the given dataset\n",
        "# paper_embeddings = torch.stack([torch.randn(512, 768), torch.randn(512, 768)])\n",
        "# review_embeddings = torch.stack([torch.stack([torch.randn(512, 768), torch.randn(512, 768), torch.randn(512, 768)]), torch.stack([torch.randn(512, 768), torch.randn(512, 768), torch.randn(512, 768)])])\n",
        "\n",
        "paper_embeddings = final_papers['tokenized_paper']\n",
        "review_embeddings = final_papers['tokenized_reviews']\n",
        "\n",
        "# print(paper_embeddings.size())\n",
        "# print(review_embeddings.size())\n",
        "\n",
        "# Compute the attended review representations for each paper\n",
        "attended_review_representations = {\n",
        "    'paper_review_name': [],\n",
        "    'paper_attended_review': []\n",
        "}\n",
        "for i in range(len(paper_embeddings)):\n",
        "    paper_embedding = paper_embeddings[i].unsqueeze(0).to(device)\n",
        "    print(f\"Paper: {paper_embedding.size()}\")\n",
        "    for j in range(len(review_embeddings[i])):\n",
        "        print(torch.stack([review_embeddings[i][j][1]]).size())\n",
        "        print(review_embeddings[i][j][0].split('(')[1][:-5], review_embeddings[i][j][0].split('(')[1])\n",
        "        paper_review_embeddings = torch.stack([review_embeddings[i][j][1]]).to(device)\n",
        "        attended_review_representation = attention(paper_embedding, paper_review_embeddings)\n",
        "        attended_review_representations['paper_review_name'].append(review_embeddings[i][j][0].split('(')[1][:-5])\n",
        "        attended_review_representations['paper_attended_review'].append(attended_review_representation)\n",
        "\n",
        "# attended_review_representations = torch.stack(attended_review_representations)\n"
      ]
    },
    {
      "cell_type": "code",
      "execution_count": null,
      "metadata": {
        "id": "6t4UXIf6jd1T",
        "colab": {
          "base_uri": "https://localhost:8080/"
        },
        "outputId": "fd8f4c9e-151f-4bec-8c19-f9894c967e9b"
      },
      "outputs": [
        {
          "output_type": "stream",
          "name": "stdout",
          "text": [
            "12\n",
            "torch.Size([1, 512, 768])\n",
            "12\n"
          ]
        }
      ],
      "source": [
        "print(len(attended_review_representations['paper_attended_review']))\n",
        "print(attended_review_representations['paper_attended_review'][-2].size())\n",
        "print(len(attended_review_representations['paper_review_name']))"
      ]
    },
    {
      "cell_type": "code",
      "execution_count": null,
      "metadata": {
        "id": "4WzfVyJ9jd1T",
        "colab": {
          "base_uri": "https://localhost:8080/"
        },
        "outputId": "8ef86943-c9c2-4d36-f7c9-768f1fc8458a"
      },
      "outputs": [
        {
          "output_type": "stream",
          "name": "stdout",
          "text": [
            "4\n",
            "4\n",
            "12\n"
          ]
        }
      ],
      "source": [
        "print(len(final_papers['tokenized_paper']))\n",
        "print(len(final_papers['tokenized_reviews']))\n",
        "sum = 0\n",
        "for i in final_papers['tokenized_reviews']:\n",
        "    sum += len(i)\n",
        "print(sum)"
      ]
    },
    {
      "cell_type": "code",
      "execution_count": null,
      "metadata": {
        "id": "aBQb5ONqjd1U",
        "colab": {
          "base_uri": "https://localhost:8080/"
        },
        "outputId": "a7ca155c-a1fb-4f07-c05f-9726912726fd"
      },
      "outputs": [
        {
          "output_type": "stream",
          "name": "stdout",
          "text": [
            "ICLR2018-B12Js_yRb-R2\n",
            "ICLR2018-B12Js_yRb-R3\n",
            "ICLR2018-B12Js_yRb-R1\n",
            "ICLR2018-B13njo1R--R2\n",
            "ICLR2018-B13njo1R--R1\n",
            "ICLR2018-B13njo1R--R3\n",
            "ICLR2018-B14TlG-RW-R3\n",
            "ICLR2018-B14TlG-RW-R2\n",
            "ICLR2018-B14TlG-RW-R1\n",
            "ICLR2018-B17JTOe0--R2\n",
            "ICLR2018-B17JTOe0--R3\n",
            "ICLR2018-B17JTOe0--R1\n",
            "12\n"
          ]
        }
      ],
      "source": [
        "for i in attended_review_representations['paper_review_name']:\n",
        "    print(i)\n",
        "print(len(attended_review_representations['paper_review_name']))"
      ]
    },
    {
      "cell_type": "code",
      "execution_count": null,
      "metadata": {
        "id": "KEUaMBhFjd1V"
      },
      "outputs": [],
      "source": [
        "with open(os.path.join(base_dir, 'Lexical Model', 'paper_attended_reviews_ICLR_2018_quality_test.pkl'), 'wb') as fw:\n",
        "    pkl.dump(attended_review_representations, fw)"
      ]
    },
    {
      "cell_type": "markdown",
      "source": [
        "# Inference using trained Model"
      ],
      "metadata": {
        "id": "yxI3I_yofRrf"
      }
    },
    {
      "cell_type": "code",
      "source": [
        "with open(os.path.join(base_dir, 'Lexical Model', 'paper_attended_reviews_ICLR_2018_quality_test.pkl'), 'rb') as fr:\n",
        "    final_paper_attended_reviews = pkl.load(fr)"
      ],
      "metadata": {
        "id": "TL1RbUoQfS49"
      },
      "execution_count": null,
      "outputs": []
    },
    {
      "cell_type": "code",
      "source": [
        "final_paper_attended_reviews.keys()"
      ],
      "metadata": {
        "colab": {
          "base_uri": "https://localhost:8080/"
        },
        "id": "-P7S02WcfYTu",
        "outputId": "27f41504-7a21-4f04-a2cd-37a85ab7f6de"
      },
      "execution_count": null,
      "outputs": [
        {
          "output_type": "execute_result",
          "data": {
            "text/plain": [
              "dict_keys(['paper_review_name', 'paper_attended_review'])"
            ]
          },
          "metadata": {},
          "execution_count": 22
        }
      ]
    },
    {
      "cell_type": "code",
      "source": [
        "\n",
        "labels_df = pd.read_csv(os.path.join(base_dir, 'data_latest_final2.csv'))\n",
        "labels_df['paper_name'][0]"
      ],
      "metadata": {
        "id": "FX1qInJqfg20",
        "colab": {
          "base_uri": "https://localhost:8080/",
          "height": 36
        },
        "outputId": "f4fc1694-19a5-4a26-cd53-c618bd46fddb"
      },
      "execution_count": null,
      "outputs": [
        {
          "output_type": "execute_result",
          "data": {
            "text/plain": [
              "'ICLR2018-B11bwYgfM-R1_annotated'"
            ],
            "application/vnd.google.colaboratory.intrinsic+json": {
              "type": "string"
            }
          },
          "metadata": {},
          "execution_count": 23
        }
      ]
    },
    {
      "cell_type": "code",
      "source": [
        "# Load labels from excel\n",
        "labels_df = pd.read_csv(os.path.join(base_dir, 'data_latest_final2.csv'))\n",
        "scores_df = pd.read_csv(os.path.join(base_dir, \"Lexical Model\", 'review_scores.csv'))\n",
        "\n",
        "# Load the data\n",
        "# data = torch.cat(final_paper_attended_reviews['paper_attended_review'])\n",
        "data = []\n",
        "# labels = torch.randn(159, 1)\n",
        "# labels = torch.tensor(labels_df[\"informativeness_score\"]).reshape(-1, 1)\n",
        "labels = []\n",
        "\n",
        "review_names = final_paper_attended_reviews['paper_review_name']\n",
        "\n",
        "for i, name in enumerate(review_names):\n",
        "    row = labels_df[labels_df[\"paper_name\"].str.contains(name)]\n",
        "    if not row.empty:\n",
        "        informativeness_score = row[\"informativeness_score\"].iloc[0]\n",
        "        labels.append(informativeness_score)\n",
        "        data.append(final_paper_attended_reviews['paper_attended_review'][i])\n",
        "\n",
        "data = torch.cat(data)\n",
        "labels = torch.tensor(labels).reshape(-1, 1)\n",
        "\n",
        "print(data.shape)\n",
        "print(labels.shape)\n",
        "\n",
        "# Initialize an empty list to store the scores\n",
        "data_scores = []\n",
        "\n",
        "# Iterate over the review names\n",
        "for i, name in enumerate(review_names):\n",
        "    # Find the row in scores_df that contains the review name\n",
        "    row = scores_df[scores_df[\"review_name\"].str.contains(name)]\n",
        "\n",
        "    # If the row is not empty\n",
        "    if not row.empty:\n",
        "        # Append the scores to the data_scores list\n",
        "        data_scores.append(row.iloc[0].tolist()[:-1])  # Assuming scores start from the second column\n",
        "\n",
        "# Create a dataframe from the data_scores list\n",
        "data_scores_df = pd.DataFrame(data_scores, columns=scores_df.columns[:-1])\n",
        "\n",
        "# Print the shape of the new dataframe\n",
        "print(data_scores_df.shape)"
      ],
      "metadata": {
        "id": "V8zouenRfrdy",
        "colab": {
          "base_uri": "https://localhost:8080/"
        },
        "outputId": "d1ea72e1-135e-40e0-c903-5183a3ba0939"
      },
      "execution_count": null,
      "outputs": [
        {
          "output_type": "stream",
          "name": "stdout",
          "text": [
            "torch.Size([12, 512, 768])\n",
            "torch.Size([12, 1])\n",
            "(12, 11)\n"
          ]
        }
      ]
    },
    {
      "cell_type": "code",
      "source": [
        "len(data)"
      ],
      "metadata": {
        "id": "jwnPlDB63ObA",
        "colab": {
          "base_uri": "https://localhost:8080/"
        },
        "outputId": "1b3a093e-e0e6-47dc-a00d-4fdca114de10"
      },
      "execution_count": null,
      "outputs": [
        {
          "output_type": "execute_result",
          "data": {
            "text/plain": [
              "12"
            ]
          },
          "metadata": {},
          "execution_count": 25
        }
      ]
    },
    {
      "cell_type": "code",
      "source": [
        "len(labels)"
      ],
      "metadata": {
        "id": "rnfc1PTIy5Hs",
        "colab": {
          "base_uri": "https://localhost:8080/"
        },
        "outputId": "27ffd80d-559f-40cc-ada6-025acff6a5db"
      },
      "execution_count": null,
      "outputs": [
        {
          "output_type": "execute_result",
          "data": {
            "text/plain": [
              "12"
            ]
          },
          "metadata": {},
          "execution_count": 26
        }
      ]
    },
    {
      "cell_type": "code",
      "source": [
        "len(data_scores)"
      ],
      "metadata": {
        "colab": {
          "base_uri": "https://localhost:8080/"
        },
        "id": "glSxdx-IOk5F",
        "outputId": "641b50d6-2f63-4b08-a63d-68d111753d5a"
      },
      "execution_count": null,
      "outputs": [
        {
          "output_type": "execute_result",
          "data": {
            "text/plain": [
              "12"
            ]
          },
          "metadata": {},
          "execution_count": 27
        }
      ]
    },
    {
      "cell_type": "code",
      "source": [
        "del final_paper_attended_reviews"
      ],
      "metadata": {
        "id": "gyxllrIKKIe4"
      },
      "execution_count": null,
      "outputs": []
    },
    {
      "cell_type": "code",
      "source": [
        "# # Define the input shape\n",
        "# input_shape = (512, 768) # 512 represents sequence length, 768 is the dimension of your text embeddings\n",
        "\n",
        "# hidden_units = 512\n",
        "\n",
        "# class GRUWrapper(nn.Module):\n",
        "#     def __init__(self, input_size, hidden_size, bidirectional=True, batch_first=True):\n",
        "#         super().__init__()\n",
        "#         self.gru = nn.GRU(input_size=input_size, hidden_size=hidden_size, bidirectional=bidirectional, batch_first=batch_first)\n",
        "\n",
        "#     def forward(self, x):\n",
        "#         # Pass the input through the GRU layer\n",
        "#         output, _ = self.gru(x)\n",
        "#         # Only return the output tensor\n",
        "#         return output\n",
        "\n",
        "# # Create a sequential model\n",
        "# # model = nn.Sequential(\n",
        "# #     # Add a BiGRU layer\n",
        "# #     # nn.GRU(input_size=input_shape[1], hidden_size=hidden_units, bidirectional=True, batch_first=True),\n",
        "# #     GRUWrapper(input_size=input_shape[1], hidden_size=hidden_units),\n",
        "# #     # Flatten the output\n",
        "# #     nn.Flatten(),\n",
        "# #     # Add a fully connected layer with one neuron\n",
        "# #     nn.Linear(in_features=512*2*hidden_units, out_features=128)\n",
        "# # )\n",
        "# model = nn.Sequential(\n",
        "#     # Add a BiGRU layer\n",
        "#     GRUWrapper(input_size=input_shape[1], hidden_size=hidden_units),\n",
        "#     # Add a dropout layer\n",
        "#     nn.Dropout(0.25),\n",
        "#     # Flatten the output\n",
        "#     nn.Flatten(),\n",
        "#     # Add three fully connected layers with 256, 128 and 64 neurons respectively\n",
        "#     nn.Linear(in_features=512*2*hidden_units, out_features=256),\n",
        "#     nn.ReLU(),\n",
        "#     nn.Linear(in_features=256, out_features=128),\n",
        "#     nn.ReLU(),\n",
        "#     nn.Linear(in_features=128, out_features=64),\n",
        "#     nn.ReLU(),\n",
        "#     # Add a dropout layer\n",
        "#     nn.Dropout(0.5),\n",
        "#     # Add a fully connected layer with one neuron\n",
        "#     nn.Linear(in_features=64, out_features=1)\n",
        "# )\n",
        "\n",
        "# model = model.to(device)\n",
        "\n",
        "# # Define the loss function\n",
        "# # criterion = nn.MSELoss()\n",
        "# # criterion = nn.HuberLoss()\n",
        "\n",
        "# # Define the optimizer\n",
        "# # optimizer = torch.optim.Adam(model.parameters())\n",
        "# # optimizer = torch.optim.Adam(model.parameters(), weight_decay=0.01) # Apply L2 regularization\n",
        "\n",
        "# # Train the model\n",
        "# # num_epochs = 50"
      ],
      "metadata": {
        "id": "j4pAML0WhTqF"
      },
      "execution_count": null,
      "outputs": []
    },
    {
      "cell_type": "code",
      "source": [
        "class BiGRU(nn.Module):\n",
        "    def __init__(self, input_size, hidden_size, num_layers, dropout, score_size):\n",
        "        super(BiGRU, self).__init__()\n",
        "        self.hidden_size = hidden_size\n",
        "        self.num_layers = num_layers\n",
        "        self.dropout = dropout\n",
        "        self.gru = nn.GRU(input_size, hidden_size, num_layers, batch_first=True, bidirectional=True)\n",
        "        self.fc1 = nn.Linear(hidden_size*2 + score_size, 256)  # 2 for bidirection\n",
        "        self.dropout1 = nn.Dropout(dropout)\n",
        "        self.fc2 = nn.Linear(256, 128)\n",
        "        self.dropout2 = nn.Dropout(dropout)\n",
        "        self.fc3 = nn.Linear(128, 64)\n",
        "        self.dropout3 = nn.Dropout(dropout)\n",
        "        self.fc4 = nn.Linear(64, 1)\n",
        "\n",
        "    def forward(self, x, scores):\n",
        "        h0 = torch.zeros(self.num_layers*2, x.size(0), self.hidden_size).to(x.device)  # 2 for bidirection\n",
        "        out, _ = self.gru(x, h0)\n",
        "        out = out[:, -1, :]\n",
        "        out = torch.cat((out, scores), dim=1)  # Concatenate the GRU output and scores\n",
        "        out = self.fc1(out)\n",
        "        out = torch.relu(out)\n",
        "        out = self.dropout1(out)\n",
        "        out = self.fc2(out)\n",
        "        out = torch.relu(out)\n",
        "        out = self.dropout2(out)\n",
        "        out = self.fc3(out)\n",
        "        out = torch.relu(out)\n",
        "        out = self.dropout3(out)\n",
        "        out = self.fc4(out)\n",
        "        out = torch.sigmoid(out)\n",
        "        return out\n"
      ],
      "metadata": {
        "id": "Dv-RkyDFgfSH"
      },
      "execution_count": null,
      "outputs": []
    },
    {
      "cell_type": "code",
      "source": [
        "# To be used\n",
        "# Alternative arch\n",
        "class BiLSTM(nn.Module):\n",
        "    def __init__(self, input_size, hidden_size, num_layers, dropout, score_size):\n",
        "        super(BiLSTM, self).__init__()\n",
        "        self.hidden_size = hidden_size\n",
        "        self.num_layers = num_layers\n",
        "        self.dropout = dropout\n",
        "        self.lstm = nn.LSTM(input_size, hidden_size, num_layers, batch_first=True, bidirectional=True)\n",
        "        self.fc1 = nn.Linear(hidden_size*2, 256)  # 2 for bidirection\n",
        "        self.bn1 = nn.BatchNorm1d(256)\n",
        "        self.fc2 = nn.Linear(256, 128)\n",
        "        self.bn2 = nn.BatchNorm1d(128)\n",
        "        self.fc3 = nn.Linear(128, 64)\n",
        "        self.bn3 = nn.BatchNorm1d(64)\n",
        "        self.fc4 = nn.Linear(64, 32)\n",
        "        self.bn4 = nn.BatchNorm1d(32)\n",
        "        self.fc5 = nn.Linear(32 + score_size, 16)\n",
        "        self.bn5 = nn.BatchNorm1d(16)\n",
        "        self.fc6 = nn.Linear(16, 1)\n",
        "\n",
        "    def forward(self, x, scores):\n",
        "        h0 = torch.zeros(self.num_layers*2, x.size(0), self.hidden_size).to(x.device)  # 2 for bidirection\n",
        "        c0 = torch.zeros(self.num_layers*2, x.size(0), self.hidden_size).to(x.device)  # 2 for bidirection\n",
        "        out, _ = self.lstm(x, (h0, c0))\n",
        "        out = out[:, -1, :]\n",
        "        elu = torch.nn.ELU()\n",
        "        out = self.fc1(out)\n",
        "        out = self.bn1(out)\n",
        "        out = elu(out)\n",
        "        out = self.fc2(out)\n",
        "        out = self.bn2(out)\n",
        "        out = elu(out)\n",
        "        out = self.fc3(out)\n",
        "        out = self.bn3(out)\n",
        "        out = elu(out)\n",
        "        out = self.fc4(out)\n",
        "        out = self.bn4(out)\n",
        "        out = elu(out)\n",
        "        out = torch.cat((out, scores), dim=1)  # Concatenate the fc4 output and scores\n",
        "        out = self.fc5(out)\n",
        "        out = self.bn5(out)\n",
        "        out = elu(out)\n",
        "        out = self.fc6(out)\n",
        "        # out = torch.sigmoid(out)\n",
        "        return out\n",
        "\n",
        "model = BiLSTM(768, 512, 3, 0.5, len(data_scores_df.columns)).to(device)"
      ],
      "metadata": {
        "id": "NqGxfbPEl46N"
      },
      "execution_count": null,
      "outputs": []
    },
    {
      "cell_type": "code",
      "source": [
        "# Load the state dictionary\n",
        "model.load_state_dict(torch.load(os.path.join(base_dir, \"Lexical Model\", 'best_model_lexical_new1.pth')))\n",
        "model.eval()"
      ],
      "metadata": {
        "id": "5twY3-CNgn5J",
        "colab": {
          "base_uri": "https://localhost:8080/"
        },
        "outputId": "573cb0b2-6fc6-4c9b-bd2f-24034141f9cb"
      },
      "execution_count": null,
      "outputs": [
        {
          "output_type": "execute_result",
          "data": {
            "text/plain": [
              "BiLSTM(\n",
              "  (lstm): LSTM(768, 512, num_layers=3, batch_first=True, bidirectional=True)\n",
              "  (fc1): Linear(in_features=1024, out_features=256, bias=True)\n",
              "  (bn1): BatchNorm1d(256, eps=1e-05, momentum=0.1, affine=True, track_running_stats=True)\n",
              "  (fc2): Linear(in_features=256, out_features=128, bias=True)\n",
              "  (bn2): BatchNorm1d(128, eps=1e-05, momentum=0.1, affine=True, track_running_stats=True)\n",
              "  (fc3): Linear(in_features=128, out_features=64, bias=True)\n",
              "  (bn3): BatchNorm1d(64, eps=1e-05, momentum=0.1, affine=True, track_running_stats=True)\n",
              "  (fc4): Linear(in_features=64, out_features=32, bias=True)\n",
              "  (bn4): BatchNorm1d(32, eps=1e-05, momentum=0.1, affine=True, track_running_stats=True)\n",
              "  (fc5): Linear(in_features=43, out_features=16, bias=True)\n",
              "  (bn5): BatchNorm1d(16, eps=1e-05, momentum=0.1, affine=True, track_running_stats=True)\n",
              "  (fc6): Linear(in_features=16, out_features=1, bias=True)\n",
              ")"
            ]
          },
          "metadata": {},
          "execution_count": 12
        }
      ]
    },
    {
      "cell_type": "code",
      "source": [
        "# Assuming your data is a PyTorch tensor\n",
        "data_tensor = data.float().to(device)  # replace 'data' with your data variable\n",
        "data_scores_tensor = torch.tensor(data_scores_df.values).float().to(device)\n",
        "\n",
        "# Pass the data to the model\n",
        "with torch.no_grad():\n",
        "    output = model(data_tensor, data_scores_tensor)"
      ],
      "metadata": {
        "id": "GfujKVnpNjFm"
      },
      "execution_count": null,
      "outputs": []
    },
    {
      "cell_type": "code",
      "source": [
        "for n, i, j in zip (final_paper_attended_reviews['paper_review_name'], output, labels):\n",
        "    print(f\"{n}\\t{i}\\t{j}\")\n",
        "\n",
        "# Without sigmoid using BiLSTM"
      ],
      "metadata": {
        "colab": {
          "base_uri": "https://localhost:8080/"
        },
        "id": "NGcpa5MQNps5",
        "outputId": "ca1d9a5f-7ea7-4fed-f48e-fa1f5c75631e"
      },
      "execution_count": null,
      "outputs": [
        {
          "output_type": "stream",
          "name": "stdout",
          "text": [
            "ICLR2018-B12Js_yRb-R2\ttensor([0.7011], device='cuda:0')\ttensor([0.8026], dtype=torch.float64)\n",
            "ICLR2018-B12Js_yRb-R3\ttensor([0.7107], device='cuda:0')\ttensor([0.8026], dtype=torch.float64)\n",
            "ICLR2018-B12Js_yRb-R1\ttensor([0.6957], device='cuda:0')\ttensor([0.8621], dtype=torch.float64)\n",
            "ICLR2018-B13njo1R--R2\ttensor([0.7367], device='cuda:0')\ttensor([0.7360], dtype=torch.float64)\n",
            "ICLR2018-B13njo1R--R1\ttensor([0.6923], device='cuda:0')\ttensor([0.8644], dtype=torch.float64)\n",
            "ICLR2018-B13njo1R--R3\ttensor([0.6947], device='cuda:0')\ttensor([0.7876], dtype=torch.float64)\n",
            "ICLR2018-B14TlG-RW-R3\ttensor([0.7231], device='cuda:0')\ttensor([0.8274], dtype=torch.float64)\n",
            "ICLR2018-B14TlG-RW-R2\ttensor([0.7316], device='cuda:0')\ttensor([0.8141], dtype=torch.float64)\n",
            "ICLR2018-B14TlG-RW-R1\ttensor([0.7155], device='cuda:0')\ttensor([0.9122], dtype=torch.float64)\n",
            "ICLR2018-B17JTOe0--R2\ttensor([0.7672], device='cuda:0')\ttensor([0.8619], dtype=torch.float64)\n",
            "ICLR2018-B17JTOe0--R3\ttensor([0.7298], device='cuda:0')\ttensor([0.7829], dtype=torch.float64)\n",
            "ICLR2018-B17JTOe0--R1\ttensor([0.7026], device='cuda:0')\ttensor([0.8548], dtype=torch.float64)\n"
          ]
        }
      ]
    },
    {
      "cell_type": "markdown",
      "source": [
        "# Testing for smallest and highest informativeness scores"
      ],
      "metadata": {
        "id": "G6J5MQQuSzz8"
      }
    },
    {
      "cell_type": "code",
      "source": [
        "with open(os.path.join(base_dir,  'Lexical Model', 'paper_attended_reviews_ICLR_2018.pkl'), 'rb') as fr:\n",
        "    final_paper_attended_reviews = pkl.load(fr)"
      ],
      "metadata": {
        "id": "YiirEQsYeNWy"
      },
      "execution_count": null,
      "outputs": []
    },
    {
      "cell_type": "code",
      "source": [
        "# Load labels from excel\n",
        "labels_df = pd.read_csv(os.path.join(base_dir, 'Lexical Model', 'data_latest_final2.csv'))"
      ],
      "metadata": {
        "id": "GpCT7MJTS3u3"
      },
      "execution_count": null,
      "outputs": []
    },
    {
      "cell_type": "code",
      "source": [
        "scores_df = pd.read_csv(os.path.join(base_dir, \"Lexical Model\", 'review_scores.csv'))"
      ],
      "metadata": {
        "id": "qd4GbKFtS5eL"
      },
      "execution_count": null,
      "outputs": []
    },
    {
      "cell_type": "markdown",
      "source": [
        "## Smallest"
      ],
      "metadata": {
        "id": "sQWUfxAlWWoQ"
      }
    },
    {
      "cell_type": "code",
      "source": [
        "import numpy as np\n",
        "\n",
        "# Load the data\n",
        "# data = torch.cat(final_paper_attended_reviews['paper_attended_review'])\n",
        "data = []\n",
        "# labels = torch.randn(159, 1)\n",
        "# labels = torch.tensor(labels_df[\"informativeness_score\"]).reshape(-1, 1)\n",
        "labels = []\n",
        "\n",
        "review_names = final_paper_attended_reviews['paper_review_name']\n",
        "\n",
        "for i, name in enumerate(review_names):\n",
        "    row = labels_df[labels_df[\"paper_name\"].str.contains(name)]\n",
        "    if not row.empty:\n",
        "        informativeness_score = row[\"informativeness_score\"].iloc[0]\n",
        "        labels.append(informativeness_score)\n",
        "        data.append(final_paper_attended_reviews['paper_attended_review'][i])\n",
        "\n",
        "# data = torch.cat(data)\n",
        "# labels = torch.tensor(labels).reshape(-1, 1)\n",
        "\n",
        "# Initialize an empty list to store the scores\n",
        "data_scores = []\n",
        "\n",
        "# Iterate over the review names\n",
        "for i, name in enumerate(review_names):\n",
        "    # Find the row in scores_df that contains the review name\n",
        "    row = scores_df[scores_df[\"review_name\"].str.contains(name)]\n",
        "\n",
        "    # If the row is not empty\n",
        "    if not row.empty:\n",
        "        # Append the scores to the data_scores list\n",
        "        data_scores.append(row.iloc[0].tolist()[:-1])  # Assuming scores start from the second column\n",
        "\n",
        "# Convert labels to a numpy array for easier manipulation\n",
        "labels_np = np.array(labels)\n",
        "\n",
        "# Get the indices of the 10 smallest informativeness scores\n",
        "indices = labels_np.argsort()[:10]\n",
        "\n",
        "# Use these indices to filter the data, data_scores, and labels\n",
        "data =  torch.cat([data[i] for i in indices])\n",
        "data_scores = [data_scores[i] for i in indices]\n",
        "labels = torch.tensor([labels[i] for i in indices]).reshape(-1, 1)\n",
        "# Create a dataframe from the data_scores list\n",
        "data_scores_df = pd.DataFrame(data_scores, columns=scores_df.columns[:-1])\n",
        "\n",
        "print(data.shape)\n",
        "print(labels.shape)\n",
        "print(data_scores_df.shape)"
      ],
      "metadata": {
        "colab": {
          "base_uri": "https://localhost:8080/"
        },
        "id": "DfKHSBT4S51i",
        "outputId": "464f966e-571d-40d1-a953-f83258783a23"
      },
      "execution_count": null,
      "outputs": [
        {
          "output_type": "stream",
          "name": "stdout",
          "text": [
            "torch.Size([10, 512, 768])\n",
            "torch.Size([10, 1])\n",
            "(10, 11)\n"
          ]
        }
      ]
    },
    {
      "cell_type": "code",
      "source": [
        "# Assuming your data is a PyTorch tensor\n",
        "data_tensor = data.float().to(device)  # replace 'data' with your data variable\n",
        "data_scores_tensor = torch.tensor(data_scores_df.values).float().to(device)\n",
        "\n",
        "# Pass the data to the model\n",
        "\n",
        "with torch.no_grad():\n",
        "    output = model(data_tensor, data_scores_tensor)"
      ],
      "metadata": {
        "id": "D8eZ9fznVvZW"
      },
      "execution_count": null,
      "outputs": []
    },
    {
      "cell_type": "code",
      "source": [
        "for n, i, j in zip (final_paper_attended_reviews['paper_review_name'], output, labels):\n",
        "    print(f\"{n}\\t{i}\\t{j}\")"
      ],
      "metadata": {
        "colab": {
          "base_uri": "https://localhost:8080/"
        },
        "outputId": "941d750d-64f2-4c21-b476-02aab8b75376",
        "id": "Csx4NNyXVvZY"
      },
      "execution_count": null,
      "outputs": [
        {
          "output_type": "stream",
          "name": "stdout",
          "text": [
            "ICLR2018-B13EC5u6W-R2\ttensor([0.5941], device='cuda:0')\ttensor([0.4462], dtype=torch.float64)\n",
            "ICLR2018-B13EC5u6W-R3\ttensor([0.5625], device='cuda:0')\ttensor([0.4505], dtype=torch.float64)\n",
            "ICLR2018-B13EC5u6W-R1\ttensor([0.6780], device='cuda:0')\ttensor([0.4566], dtype=torch.float64)\n",
            "ICLR2018-B16_iGWCW-R2\ttensor([0.6698], device='cuda:0')\ttensor([0.4728], dtype=torch.float64)\n",
            "ICLR2018-B16_iGWCW-R3\ttensor([0.6741], device='cuda:0')\ttensor([0.4782], dtype=torch.float64)\n",
            "ICLR2018-B16_iGWCW-R1\ttensor([0.6647], device='cuda:0')\ttensor([0.4955], dtype=torch.float64)\n",
            "ICLR2018-B16yEqkCZ-R2\ttensor([0.6165], device='cuda:0')\ttensor([0.5058], dtype=torch.float64)\n",
            "ICLR2018-B16yEqkCZ-R3\ttensor([0.6265], device='cuda:0')\ttensor([0.5077], dtype=torch.float64)\n",
            "ICLR2018-B16yEqkCZ-R1\ttensor([0.7449], device='cuda:0')\ttensor([0.5117], dtype=torch.float64)\n",
            "ICLR2018-B1CEaMbR--R2\ttensor([0.7300], device='cuda:0')\ttensor([0.5214], dtype=torch.float64)\n"
          ]
        }
      ]
    },
    {
      "cell_type": "markdown",
      "source": [
        "## Largest"
      ],
      "metadata": {
        "id": "WIflMEVNWYB3"
      }
    },
    {
      "cell_type": "code",
      "source": [
        "import numpy as np\n",
        "\n",
        "# Load the data\n",
        "# data = torch.cat(final_paper_attended_reviews['paper_attended_review'])\n",
        "data = []\n",
        "# labels = torch.randn(159, 1)\n",
        "# labels = torch.tensor(labels_df[\"informativeness_score\"]).reshape(-1, 1)\n",
        "labels = []\n",
        "\n",
        "review_names = final_paper_attended_reviews['paper_review_name']\n",
        "\n",
        "for i, name in enumerate(review_names):\n",
        "    row = labels_df[labels_df[\"paper_name\"].str.contains(name)]\n",
        "    if not row.empty:\n",
        "        informativeness_score = row[\"informativeness_score\"].iloc[0]\n",
        "        labels.append(informativeness_score)\n",
        "        data.append(final_paper_attended_reviews['paper_attended_review'][i])\n",
        "\n",
        "# data = torch.cat(data)\n",
        "# labels = torch.tensor(labels).reshape(-1, 1)\n",
        "\n",
        "# Initialize an empty list to store the scores\n",
        "data_scores = []\n",
        "\n",
        "# Iterate over the review names\n",
        "for i, name in enumerate(review_names):\n",
        "    # Find the row in scores_df that contains the review name\n",
        "    row = scores_df[scores_df[\"review_name\"].str.contains(name)]\n",
        "\n",
        "    # If the row is not empty\n",
        "    if not row.empty:\n",
        "        # Append the scores to the data_scores list\n",
        "        data_scores.append(row.iloc[0].tolist()[:-1])  # Assuming scores start from the second column\n",
        "\n",
        "# Convert labels to a numpy array for easier manipulation\n",
        "labels_np = np.array(labels)\n",
        "\n",
        "# Get the indices of the 10 smallest informativeness scores\n",
        "indices = labels_np.argsort()[::-1][:10]\n",
        "\n",
        "# Use these indices to filter the data, data_scores, and labels\n",
        "data =  torch.cat([data[i] for i in indices])\n",
        "data_scores = [data_scores[i] for i in indices]\n",
        "labels = torch.tensor([labels[i] for i in indices]).reshape(-1, 1)\n",
        "# Create a dataframe from the data_scores list\n",
        "data_scores_df = pd.DataFrame(data_scores, columns=scores_df.columns[:-1])\n",
        "\n",
        "print(data.shape)\n",
        "print(labels.shape)\n",
        "print(data_scores_df.shape)"
      ],
      "metadata": {
        "colab": {
          "base_uri": "https://localhost:8080/"
        },
        "outputId": "83676f6c-189f-47ea-c6cb-fc7d5cb81fbd",
        "id": "srQ1ElZmWatS"
      },
      "execution_count": null,
      "outputs": [
        {
          "output_type": "stream",
          "name": "stdout",
          "text": [
            "torch.Size([10, 512, 768])\n",
            "torch.Size([10, 1])\n",
            "(10, 11)\n"
          ]
        }
      ]
    },
    {
      "cell_type": "code",
      "source": [
        "# Assuming your data is a PyTorch tensor\n",
        "data_tensor = data.float().to(device)  # replace 'data' with your data variable\n",
        "data_scores_tensor = torch.tensor(data_scores_df.values).float().to(device)\n",
        "\n",
        "# Pass the data to the model\n",
        "with torch.no_grad():\n",
        "    output = model(data_tensor, data_scores_tensor)"
      ],
      "metadata": {
        "id": "51x1CarYWatU"
      },
      "execution_count": null,
      "outputs": []
    },
    {
      "cell_type": "code",
      "source": [
        "for n, i, j in zip (final_paper_attended_reviews['paper_review_name'], output, labels):\n",
        "    print(f\"{n}\\t{i}\\t{j}\")"
      ],
      "metadata": {
        "colab": {
          "base_uri": "https://localhost:8080/"
        },
        "outputId": "43aa5134-cb70-4b02-9429-181e177318dc",
        "id": "MURBkuPhWatV"
      },
      "execution_count": null,
      "outputs": [
        {
          "output_type": "stream",
          "name": "stdout",
          "text": [
            "ICLR2018-B13EC5u6W-R2\ttensor([0.8684], device='cuda:0')\ttensor([0.8889], dtype=torch.float64)\n",
            "ICLR2018-B13EC5u6W-R3\ttensor([0.7170], device='cuda:0')\ttensor([0.8861], dtype=torch.float64)\n",
            "ICLR2018-B13EC5u6W-R1\ttensor([0.7122], device='cuda:0')\ttensor([0.8813], dtype=torch.float64)\n",
            "ICLR2018-B16_iGWCW-R2\ttensor([0.7298], device='cuda:0')\ttensor([0.8758], dtype=torch.float64)\n",
            "ICLR2018-B16_iGWCW-R3\ttensor([0.7137], device='cuda:0')\ttensor([0.8701], dtype=torch.float64)\n",
            "ICLR2018-B16_iGWCW-R1\ttensor([0.7271], device='cuda:0')\ttensor([0.8677], dtype=torch.float64)\n",
            "ICLR2018-B16yEqkCZ-R2\ttensor([0.8401], device='cuda:0')\ttensor([0.8674], dtype=torch.float64)\n",
            "ICLR2018-B16yEqkCZ-R3\ttensor([0.7112], device='cuda:0')\ttensor([0.8672], dtype=torch.float64)\n",
            "ICLR2018-B16yEqkCZ-R1\ttensor([0.6839], device='cuda:0')\ttensor([0.8659], dtype=torch.float64)\n",
            "ICLR2018-B1CEaMbR--R2\ttensor([0.7182], device='cuda:0')\ttensor([0.8639], dtype=torch.float64)\n"
          ]
        }
      ]
    },
    {
      "cell_type": "code",
      "source": [],
      "metadata": {
        "id": "wWhFuTpMWnG5"
      },
      "execution_count": null,
      "outputs": []
    }
  ]
}